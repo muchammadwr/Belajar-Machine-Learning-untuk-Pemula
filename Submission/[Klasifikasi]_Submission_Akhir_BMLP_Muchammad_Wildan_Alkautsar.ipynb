{
  "cells": [
    {
      "cell_type": "markdown",
      "metadata": {
        "id": "fKADPWcFKlj3"
      },
      "source": [
        "# **1. Import Library**\n"
      ]
    },
    {
      "cell_type": "markdown",
      "metadata": {
        "id": "LgA3ERnVn84N"
      },
      "source": [
        "Pada tahap ini, Anda perlu mengimpor beberapa pustaka (library) Python yang dibutuhkan untuk analisis data dan pembangunan model machine learning.\n"
      ]
    },
    {
      "cell_type": "code",
      "execution_count": 43,
      "metadata": {
        "id": "BlmvjLY9M4Yj"
      },
      "outputs": [],
      "source": [
        "import pandas as pd\n",
        "import numpy as np\n",
        "import seaborn as sns\n",
        "import matplotlib.pyplot as plt\n",
        "from sklearn.model_selection import train_test_split\n",
        "from sklearn.preprocessing import LabelEncoder, StandardScaler\n",
        "from sklearn.tree import DecisionTreeClassifier\n",
        "from sklearn.metrics import accuracy_score, classification_report, confusion_matrix"
      ]
    },
    {
      "cell_type": "markdown",
      "metadata": {
        "id": "f3YIEnAFKrKL"
      },
      "source": [
        "# **2. Memuat Dataset dari Hasil Clustering**\n"
      ]
    },
    {
      "cell_type": "markdown",
      "metadata": {
        "id": "Ey3ItwTen_7E"
      },
      "source": [
        "Memuat dataset hasil clustering dari file CSV ke dalam variabel DataFrame.\n"
      ]
    },
    {
      "cell_type": "code",
      "execution_count": 31,
      "metadata": {
        "id": "GHCGNTyrM5fS"
      },
      "outputs": [
        {
          "data": {
            "text/html": [
              "<div>\n",
              "<style scoped>\n",
              "    .dataframe tbody tr th:only-of-type {\n",
              "        vertical-align: middle;\n",
              "    }\n",
              "\n",
              "    .dataframe tbody tr th {\n",
              "        vertical-align: top;\n",
              "    }\n",
              "\n",
              "    .dataframe thead th {\n",
              "        text-align: right;\n",
              "    }\n",
              "</style>\n",
              "<table border=\"1\" class=\"dataframe\">\n",
              "  <thead>\n",
              "    <tr style=\"text-align: right;\">\n",
              "      <th></th>\n",
              "      <th>AccountBalance</th>\n",
              "      <th>CustomerAge</th>\n",
              "      <th>TingkatSejahtera</th>\n",
              "    </tr>\n",
              "  </thead>\n",
              "  <tbody>\n",
              "    <tr>\n",
              "      <th>0</th>\n",
              "      <td>5112.21</td>\n",
              "      <td>70.0</td>\n",
              "      <td>menengah</td>\n",
              "    </tr>\n",
              "    <tr>\n",
              "      <th>1</th>\n",
              "      <td>13758.91</td>\n",
              "      <td>68.0</td>\n",
              "      <td>stabil</td>\n",
              "    </tr>\n",
              "    <tr>\n",
              "      <th>2</th>\n",
              "      <td>1122.35</td>\n",
              "      <td>19.0</td>\n",
              "      <td>rendah</td>\n",
              "    </tr>\n",
              "    <tr>\n",
              "      <th>3</th>\n",
              "      <td>8569.06</td>\n",
              "      <td>26.0</td>\n",
              "      <td>stabil</td>\n",
              "    </tr>\n",
              "    <tr>\n",
              "      <th>4</th>\n",
              "      <td>7429.40</td>\n",
              "      <td>26.0</td>\n",
              "      <td>stabil</td>\n",
              "    </tr>\n",
              "  </tbody>\n",
              "</table>\n",
              "</div>"
            ],
            "text/plain": [
              "   AccountBalance  CustomerAge TingkatSejahtera\n",
              "0         5112.21         70.0         menengah\n",
              "1        13758.91         68.0           stabil\n",
              "2         1122.35         19.0           rendah\n",
              "3         8569.06         26.0           stabil\n",
              "4         7429.40         26.0           stabil"
            ]
          },
          "execution_count": 31,
          "metadata": {},
          "output_type": "execute_result"
        }
      ],
      "source": [
        "df = pd.read_csv('data_clustering.csv')\n",
        "df.head()"
      ]
    },
    {
      "cell_type": "code",
      "execution_count": 32,
      "metadata": {},
      "outputs": [],
      "source": [
        "encoder = LabelEncoder()\n",
        "df['TingkatSejahtera'] = encoder.fit_transform(df['TingkatSejahtera'])"
      ]
    },
    {
      "cell_type": "code",
      "execution_count": 33,
      "metadata": {},
      "outputs": [
        {
          "data": {
            "text/html": [
              "<div>\n",
              "<style scoped>\n",
              "    .dataframe tbody tr th:only-of-type {\n",
              "        vertical-align: middle;\n",
              "    }\n",
              "\n",
              "    .dataframe tbody tr th {\n",
              "        vertical-align: top;\n",
              "    }\n",
              "\n",
              "    .dataframe thead th {\n",
              "        text-align: right;\n",
              "    }\n",
              "</style>\n",
              "<table border=\"1\" class=\"dataframe\">\n",
              "  <thead>\n",
              "    <tr style=\"text-align: right;\">\n",
              "      <th></th>\n",
              "      <th>AccountBalance</th>\n",
              "      <th>CustomerAge</th>\n",
              "      <th>TingkatSejahtera</th>\n",
              "    </tr>\n",
              "  </thead>\n",
              "  <tbody>\n",
              "    <tr>\n",
              "      <th>0</th>\n",
              "      <td>5112.21</td>\n",
              "      <td>70.0</td>\n",
              "      <td>0</td>\n",
              "    </tr>\n",
              "    <tr>\n",
              "      <th>1</th>\n",
              "      <td>13758.91</td>\n",
              "      <td>68.0</td>\n",
              "      <td>2</td>\n",
              "    </tr>\n",
              "    <tr>\n",
              "      <th>2</th>\n",
              "      <td>1122.35</td>\n",
              "      <td>19.0</td>\n",
              "      <td>1</td>\n",
              "    </tr>\n",
              "    <tr>\n",
              "      <th>3</th>\n",
              "      <td>8569.06</td>\n",
              "      <td>26.0</td>\n",
              "      <td>2</td>\n",
              "    </tr>\n",
              "    <tr>\n",
              "      <th>4</th>\n",
              "      <td>7429.40</td>\n",
              "      <td>26.0</td>\n",
              "      <td>2</td>\n",
              "    </tr>\n",
              "  </tbody>\n",
              "</table>\n",
              "</div>"
            ],
            "text/plain": [
              "   AccountBalance  CustomerAge  TingkatSejahtera\n",
              "0         5112.21         70.0                 0\n",
              "1        13758.91         68.0                 2\n",
              "2         1122.35         19.0                 1\n",
              "3         8569.06         26.0                 2\n",
              "4         7429.40         26.0                 2"
            ]
          },
          "execution_count": 33,
          "metadata": {},
          "output_type": "execute_result"
        }
      ],
      "source": [
        "df.head()"
      ]
    },
    {
      "cell_type": "markdown",
      "metadata": {
        "id": "KkPem5eWL2UP"
      },
      "source": [
        "# **3. Data Splitting**\n"
      ]
    },
    {
      "cell_type": "markdown",
      "metadata": {
        "id": "YYj1rl_JNI9Y"
      },
      "source": [
        "Tahap Data Splitting bertujuan untuk memisahkan dataset menjadi dua bagian: data latih (training set) dan data uji (test set).\n"
      ]
    },
    {
      "cell_type": "code",
      "execution_count": 34,
      "metadata": {
        "id": "OubAW-7ONKVj"
      },
      "outputs": [
        {
          "name": "stdout",
          "output_type": "stream",
          "text": [
            "      AccountBalance  CustomerAge\n",
            "0            5112.21         70.0\n",
            "1           13758.91         68.0\n",
            "2            1122.35         19.0\n",
            "3            8569.06         26.0\n",
            "4            7429.40         26.0\n",
            "...              ...          ...\n",
            "2507        12690.79         33.0\n",
            "2508          254.75         48.0\n",
            "2509         3382.91         56.0\n",
            "2510         1776.91         23.0\n",
            "2511          131.25         24.0\n",
            "\n",
            "[2512 rows x 2 columns]\n",
            "0       0\n",
            "1       2\n",
            "2       1\n",
            "3       2\n",
            "4       2\n",
            "       ..\n",
            "2507    2\n",
            "2508    1\n",
            "2509    0\n",
            "2510    1\n",
            "2511    1\n",
            "Name: TingkatSejahtera, Length: 2512, dtype: int64\n"
          ]
        }
      ],
      "source": [
        "X = df.drop(columns=['TingkatSejahtera'])  \n",
        "y = df['TingkatSejahtera']  \n",
        "print(X)\n",
        "print(y)"
      ]
    },
    {
      "cell_type": "code",
      "execution_count": 35,
      "metadata": {},
      "outputs": [
        {
          "data": {
            "text/plain": [
              "array([[-5.36635052e-04,  1.42371826e+00],\n",
              "       [ 2.21647159e+00,  1.31128706e+00],\n",
              "       [-1.02353413e+00, -1.44327736e+00],\n",
              "       ...,\n",
              "       [-4.43928023e-01,  6.36699859e-01],\n",
              "       [-8.55705373e-01, -1.21841495e+00],\n",
              "       [-1.27765152e+00, -1.16219935e+00]])"
            ]
          },
          "execution_count": 35,
          "metadata": {},
          "output_type": "execute_result"
        }
      ],
      "source": [
        "scaler = StandardScaler()\n",
        "scaler.fit_transform(X)"
      ]
    },
    {
      "cell_type": "code",
      "execution_count": 36,
      "metadata": {},
      "outputs": [],
      "source": [
        "X_train, X_test, y_train, y_test = train_test_split(X, y, train_size=.2, random_state=42, )"
      ]
    },
    {
      "cell_type": "markdown",
      "metadata": {
        "id": "IVPbB03CMhTT"
      },
      "source": [
        "# **4. Membangun Model Klasifikasi**\n"
      ]
    },
    {
      "cell_type": "markdown",
      "metadata": {
        "id": "Ned1pL9zMmBK"
      },
      "source": [
        "## **a. Membangun Model Klasifikasi**\n"
      ]
    },
    {
      "cell_type": "markdown",
      "metadata": {
        "id": "WAWzPOE4Nkti"
      },
      "source": [
        "Setelah memilih algoritma klasifikasi yang sesuai, langkah selanjutnya adalah melatih model menggunakan data latih.\n",
        "\n",
        "Berikut adalah rekomendasi tahapannya.\n",
        "\n",
        "1. Pilih algoritma klasifikasi yang sesuai, seperti Logistic Regression, Decision Tree, Random Forest, atau K-Nearest Neighbors (KNN).\n",
        "2. Latih model menggunakan data latih.\n"
      ]
    },
    {
      "cell_type": "code",
      "execution_count": 40,
      "metadata": {
        "id": "4JYxBe87NLDk"
      },
      "outputs": [],
      "source": [
        "tree = DecisionTreeClassifier()\n",
        "dt = tree.fit(X_train, y_train)"
      ]
    },
    {
      "cell_type": "markdown",
      "metadata": {
        "id": "seYoHNY3XU1y"
      },
      "source": [
        "Tulis narasi atau penjelasan algoritma yang Anda gunakan.\n"
      ]
    },
    {
      "cell_type": "markdown",
      "metadata": {
        "id": "ergzChZFEL-O"
      },
      "source": [
        "## **b. Evaluasi Model Klasifikasi**\n"
      ]
    },
    {
      "cell_type": "markdown",
      "metadata": {
        "id": "zOm68u-7NpLT"
      },
      "source": [
        "Berikut adalah **rekomendasi** tahapannya.\n",
        "\n",
        "1. Lakukan prediksi menggunakan data uji.\n",
        "2. Hitung metrik evaluasi seperti Accuracy dan F1-Score (Opsional: Precision dan Recall).\n",
        "3. Buat confusion matrix untuk melihat detail prediksi benar dan salah.\n"
      ]
    },
    {
      "cell_type": "code",
      "execution_count": 44,
      "metadata": {
        "id": "tMq4QAssNLip"
      },
      "outputs": [
        {
          "name": "stdout",
          "output_type": "stream",
          "text": [
            "Accuracy: 0.9577114427860697\n",
            "Confusion Matrix:\n",
            " [[694  14  22]\n",
            " [  4 658   3]\n",
            " [ 19  23 573]]\n",
            "Classification Report:\n",
            "               precision    recall  f1-score   support\n",
            "\n",
            "           0       0.97      0.95      0.96       730\n",
            "           1       0.95      0.99      0.97       665\n",
            "           2       0.96      0.93      0.94       615\n",
            "\n",
            "    accuracy                           0.96      2010\n",
            "   macro avg       0.96      0.96      0.96      2010\n",
            "weighted avg       0.96      0.96      0.96      2010\n",
            "\n"
          ]
        }
      ],
      "source": [
        "y_pred = tree.predict(X_test)\n",
        "\n",
        "# Evaluasi model\n",
        "print(\"Accuracy:\", accuracy_score(y_test, y_pred))\n",
        "print(\"Confusion Matrix:\\n\", confusion_matrix(y_test, y_pred))\n",
        "print(\"Classification Report:\\n\", classification_report(y_test, y_pred))"
      ]
    },
    {
      "cell_type": "markdown",
      "metadata": {
        "id": "H4_9OwrsXZlz"
      },
      "source": [
        "Tulis hasil evaluasi algoritma yang digunakan, jika Anda menggunakan 2 algoritma, maka bandingkan hasilnya.\n"
      ]
    },
    {
      "cell_type": "markdown",
      "metadata": {
        "id": "ph9yIYDXEPuB"
      },
      "source": [
        "## **c. Tuning Model Klasifikasi (Optional)**\n"
      ]
    },
    {
      "cell_type": "markdown",
      "metadata": {
        "id": "-Bikx3LINv5e"
      },
      "source": [
        "Gunakan GridSearchCV, RandomizedSearchCV, atau metode lainnya untuk mencari kombinasi hyperparameter terbaik\n"
      ]
    },
    {
      "cell_type": "code",
      "execution_count": null,
      "metadata": {
        "id": "winbFzb8NL95"
      },
      "outputs": [],
      "source": [
        "#Type your code here"
      ]
    },
    {
      "cell_type": "markdown",
      "metadata": {
        "id": "hE7pqlEPEYzI"
      },
      "source": [
        "## **d. Evaluasi Model Klasifikasi setelah Tuning (Optional)**\n"
      ]
    },
    {
      "cell_type": "markdown",
      "metadata": {
        "id": "feaPESoeN0zz"
      },
      "source": [
        "Berikut adalah rekomendasi tahapannya.\n",
        "\n",
        "1. Gunakan model dengan hyperparameter terbaik.\n",
        "2. Hitung ulang metrik evaluasi untuk melihat apakah ada peningkatan performa.\n"
      ]
    },
    {
      "cell_type": "code",
      "execution_count": null,
      "metadata": {
        "id": "HTXZRvEeNMb1"
      },
      "outputs": [],
      "source": [
        "#Type your code here"
      ]
    },
    {
      "cell_type": "markdown",
      "metadata": {
        "id": "ZRsOdm4uEgAW"
      },
      "source": [
        "## **e. Analisis Hasil Evaluasi Model Klasifikasi**\n"
      ]
    },
    {
      "cell_type": "markdown",
      "metadata": {
        "id": "Hm3BhSi6N4_l"
      },
      "source": [
        "# Evaluasi Model Decision Tree\n",
        "\n",
        "Model **Decision Tree Classifier** yang telah diuji pada dataset menunjukkan performa yang sangat baik dengan **akurasi sebesar 95.77%**. Berikut adalah analisis berdasarkan metrik evaluasi:\n",
        "\n",
        "## 1. Confusion Matrix\n",
        "\n",
        "| Kelas                       | Prediksi Benar | Salah ke Kelas 1 | Salah ke Kelas 2 |\n",
        "| --------------------------- | -------------- | ---------------- | ---------------- |\n",
        "| **0** (Tingkat Sejahtera 0) | 694            | 14               | 22               |\n",
        "| **1** (Tingkat Sejahtera 1) | 658            | 4                | 3                |\n",
        "| **2** (Tingkat Sejahtera 2) | 573            | 19               | 23               |\n",
        "\n",
        "## 2. Precision, Recall, dan F1-Score\n",
        "\n",
        "- **Precision**: Model memiliki rata-rata **96%**, menunjukkan bahwa ketika model memprediksi suatu kelas, 96% dari prediksi tersebut benar.\n",
        "- **Recall**: Rata-rata **96%**, artinya model dapat menangkap 96% dari total data yang benar-benar termasuk dalam kelas tertentu.\n",
        "- **F1-Score**: Dengan skor **96%**, model memiliki keseimbangan yang baik antara precision dan recall.\n",
        "\n",
        "## 3. Kesimpulan\n",
        "\n",
        "- Model bekerja dengan **sangat baik** dalam mengklasifikasikan tingkat kesejahteraan dengan error yang **minim**.\n",
        "- Kelas **1** memiliki performa terbaik dengan recall **99%**, menunjukkan bahwa hampir semua data kelas 1 diklasifikasikan dengan benar.\n",
        "- Kesalahan prediksi lebih banyak terjadi pada kelas **0 dan 2**, namun jumlahnya relatif kecil.\n",
        "\n",
        "## 4. Rekomendasi\n",
        "\n",
        "- Jika ingin meningkatkan performa lebih lanjut, bisa dilakukan **pruning** pada Decision Tree untuk mengurangi overfitting.\n",
        "- Mencoba model lain seperti **Random Forest** atau **Gradient Boosting** untuk melihat apakah ada peningkatan performa.\n",
        "- Melakukan **hyperparameter tuning** pada Decision Tree untuk menemukan parameter optimal.\n",
        "\n",
        "Model ini sudah cukup **andal** dengan tingkat kesalahan yang rendah, sehingga bisa digunakan untuk prediksi dalam kasus nyata. 🚀\n"
      ]
    }
  ],
  "metadata": {
    "colab": {
      "provenance": []
    },
    "kernelspec": {
      "display_name": "base",
      "language": "python",
      "name": "python3"
    },
    "language_info": {
      "codemirror_mode": {
        "name": "ipython",
        "version": 3
      },
      "file_extension": ".py",
      "mimetype": "text/x-python",
      "name": "python",
      "nbconvert_exporter": "python",
      "pygments_lexer": "ipython3",
      "version": "3.12.7"
    }
  },
  "nbformat": 4,
  "nbformat_minor": 0
}
