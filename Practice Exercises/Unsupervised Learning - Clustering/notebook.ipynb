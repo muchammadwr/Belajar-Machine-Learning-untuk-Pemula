{
 "cells": [
  {
   "cell_type": "markdown",
   "metadata": {},
   "source": [
    "## Latihan Studi Kasus Clustering\n"
   ]
  },
  {
   "cell_type": "markdown",
   "metadata": {},
   "source": [
    "### Import Library\n"
   ]
  },
  {
   "cell_type": "code",
   "execution_count": 8,
   "metadata": {},
   "outputs": [],
   "source": [
    "import pandas as pd  # Mengimpor pustaka pandas untuk manipulasi dan analisis data\n",
    "import matplotlib.pyplot as plt  # Mengimpor pustaka matplotlib untuk visualisasi grafik\n",
    "from yellowbrick.cluster import KElbowVisualizer  # Mengimpor KElbowVisualizer untuk visualisasi metode Elbow\n",
    " \n",
    "from sklearn.cluster import KMeans, DBSCAN  # Mengimpor algoritma KMeans dan DBSCAN untuk clustering\n",
    "from sklearn.metrics import silhouette_score  # Mengimpor silhouette_score untuk mengevaluasi hasil clustering"
   ]
  },
  {
   "cell_type": "markdown",
   "metadata": {},
   "source": [
    "### Data Loading\n"
   ]
  },
  {
   "cell_type": "code",
   "execution_count": null,
   "metadata": {},
   "outputs": [],
   "source": [
    "# Membaca dataset pelanggan mall dari URL dan menampilkan 5 baris pertama\n",
    "df = pd.read_csv('https://raw.githubusercontent.com/dicodingacademy/dicoding_dataset/main/ML%20Pemula/Mall_Customers.csv')\n",
    "df.head()"
   ]
  },
  {
   "cell_type": "code",
   "execution_count": null,
   "metadata": {},
   "outputs": [],
   "source": [
    "# Menampilkan informasi tentang dataset, termasuk jumlah baris, kolom, tipe data, dan jumlah nilai non-null\n",
    "df.info()"
   ]
  },
  {
   "cell_type": "code",
   "execution_count": null,
   "metadata": {},
   "outputs": [],
   "source": [
    "# Menampilkan statistik deskriptif dari dataset untuk kolom numerik\n",
    "df.describe()"
   ]
  },
  {
   "cell_type": "markdown",
   "metadata": {},
   "source": [
    "### Exploratory Data Analysis\n"
   ]
  },
  {
   "cell_type": "code",
   "execution_count": null,
   "metadata": {},
   "outputs": [],
   "source": [
    "# Menghitung distribusi gender dan menampilkan pie chart untuk visualisasi\n",
    "plt.figure(figsize=(7, 7))\n",
    "plt.pie(df['Gender'].value_counts(), labels=['Female', 'Male'], autopct='%1.1f%%', startangle=90)\n",
    "plt.title('Gender Distribution')\n",
    "plt.show()"
   ]
  },
  {
   "cell_type": "code",
   "execution_count": null,
   "metadata": {},
   "outputs": [],
   "source": [
    "# Mengelompokkan usia pelanggan ke dalam kategori dan menghitung jumlah pelanggan di setiap kategori\n",
    "age18_25 = df.Age[(df.Age >= 18) & (df.Age <= 25)]\n",
    "age26_35 = df.Age[(df.Age >= 26) & (df.Age <= 35)]\n",
    "age36_45 = df.Age[(df.Age >= 36) & (df.Age <= 45)]\n",
    "age46_55 = df.Age[(df.Age >= 46) & (df.Age <= 55)]\n",
    "age55above = df.Age[df.Age >= 56]\n",
    " \n",
    "# Menyusun data untuk plotting\n",
    "x = [\"18-25\", \"26-35\", \"36-45\", \"46-55\", \"55+\"]\n",
    "y = [len(age18_25.values), len(age26_35.values), len(age36_45.values), len(age46_55.values), len(age55above.values)]\n",
    " \n",
    "# Membuat bar chart untuk distribusi usia pelanggan\n",
    "plt.figure(figsize=(15, 6))\n",
    "plt.bar(x, y, color=['red', 'green', 'blue', 'cyan', 'yellow'])\n",
    "plt.title(\"Customer and Their Ages\")\n",
    "plt.xlabel(\"Age\")\n",
    "plt.ylabel(\"Number of Customers\")\n",
    " \n",
    "# Menambahkan label jumlah pelanggan di atas setiap bar\n",
    "for i in range(len(x)):\n",
    "  plt.text(i, y[i], y[i], ha='center', va='bottom')\n",
    " \n",
    "plt.show()"
   ]
  },
  {
   "cell_type": "code",
   "execution_count": null,
   "metadata": {},
   "outputs": [],
   "source": [
    "# Mengelompokkan pendapatan tahunan pelanggan ke dalam kategori dan menghitung jumlah pelanggan di setiap kategori\n",
    "ai0_30 = df[\"Annual Income (k$)\"][(df[\"Annual Income (k$)\"] >= 0) & (df[\"Annual Income (k$)\"] <= 30)]\n",
    "ai31_60 = df[\"Annual Income (k$)\"][(df[\"Annual Income (k$)\"] >= 31) & (df[\"Annual Income (k$)\"] <= 60)]\n",
    "ai61_90 = df[\"Annual Income (k$)\"][(df[\"Annual Income (k$)\"] >= 61) & (df[\"Annual Income (k$)\"] <= 90)]\n",
    "ai91_120 = df[\"Annual Income (k$)\"][(df[\"Annual Income (k$)\"] >= 91) & (df[\"Annual Income (k$)\"] <= 120)]\n",
    "ai121_150 = df[\"Annual Income (k$)\"][(df[\"Annual Income (k$)\"] >= 121) & (df[\"Annual Income (k$)\"] <= 150)]\n",
    " \n",
    "# Menyusun data untuk plotting\n",
    "aix = [\"$ 0 - 30,000\", \"$ 30,001 - 60,000\", \"$ 60,001 - 90,000\", \"$ 90,001 - 120,000\", \"$ 120,001 - 150,000\"]\n",
    "aiy = [len(ai0_30.values), len(ai31_60.values), len(ai61_90.values), len(ai91_120.values), len(ai121_150.values)]\n",
    " \n",
    "# Membuat bar chart untuk distribusi pendapatan tahunan pelanggan\n",
    "plt.figure(figsize=(15, 6))\n",
    "plt.bar(aix, aiy, color=['red', 'green', 'blue', 'cyan', 'yellow'])\n",
    "plt.title(\"Customer and Their Annual Income\")\n",
    "plt.xlabel(\"Annual Income\")\n",
    "plt.ylabel(\"Number of Customers\")\n",
    "plt.xticks(rotation=45)  # Memutar label sumbu x agar lebih mudah dibaca\n",
    " \n",
    "# Menambahkan label jumlah pelanggan di atas setiap bar\n",
    "for i in range(len(aix)):\n",
    "  plt.text(i, aiy[i], aiy[i], ha='center', va='bottom')\n",
    " \n",
    "plt.show()"
   ]
  },
  {
   "cell_type": "markdown",
   "metadata": {},
   "source": [
    "### Data Splitting\n"
   ]
  },
  {
   "cell_type": "code",
   "execution_count": null,
   "metadata": {},
   "outputs": [],
   "source": [
    "# Mengambil kolom 'Annual Income (k$)' dan 'Spending Score (1-100)' dari dataset dan menyimpannya dalam array X\n",
    "X = df.iloc[:, [3, 4]].values\n",
    " \n",
    "# Menampilkan data yang diambil dalam format DataFrame dengan nama kolom yang sesuai\n",
    "print(pd.DataFrame(X, columns=['Annual Income (k$)', 'Spending Score (1-100)']))"
   ]
  },
  {
   "cell_type": "markdown",
   "metadata": {},
   "source": [
    "### Elbow Method\n"
   ]
  },
  {
   "cell_type": "code",
   "execution_count": null,
   "metadata": {},
   "outputs": [],
   "source": [
    "# Inisialisasi model KMeans tanpa parameter awal\n",
    "kmeans = KMeans()\n",
    " \n",
    "# Inisialisasi visualizer KElbow untuk menentukan jumlah cluster optimal\n",
    "visualizer = KElbowVisualizer(kmeans, k=(1, 10))\n",
    " \n",
    "# Fit visualizer dengan data untuk menemukan jumlah cluster optimal\n",
    "visualizer.fit(X)\n",
    " \n",
    "# Menampilkan grafik elbow untuk analisis\n",
    "visualizer.show()\n"
   ]
  },
  {
   "cell_type": "markdown",
   "metadata": {},
   "source": [
    "### Cluster Modeling (K-Means Clustering)\n"
   ]
  },
  {
   "cell_type": "code",
   "execution_count": null,
   "metadata": {},
   "outputs": [],
   "source": [
    "from sklearn.cluster import KMeans\n",
    " \n",
    "# Inisialisasi dan melatih model KMeans dengan jumlah cluster = 4\n",
    "kmeans = KMeans(n_clusters=4, random_state=0)\n",
    "kmeans.fit(X)\n",
    " \n",
    "# Mendapatkan label cluster\n",
    "labels = kmeans.labels_\n",
    " \n",
    "# Mendapatkan jumlah cluster\n",
    "k = 4\n",
    " \n",
    "# Fungsi untuk analisis karakteristik cluster\n",
    "def analyze_clusters(X, labels, k):\n",
    "    print(\"Analisis Karakteristik Setiap Cluster:\")\n",
    "    for cluster_id in range(k):\n",
    "        # Mengambil data untuk cluster saat ini\n",
    "        cluster_data = X[labels == cluster_id]\n",
    " \n",
    "        # Menghitung rata-rata untuk setiap fitur dalam cluster\n",
    "        mean_income = cluster_data[:, 0].mean()  # Rata-rata Annual Income\n",
    "        mean_spending = cluster_data[:, 1].mean()  # Rata-rata Spending Score\n",
    " \n",
    "        print(f\"\\nCluster {cluster_id + 1}:\")\n",
    "        print(f\"Rata-rata Annual Income (k$): {mean_income:.2f}\")\n",
    "        print(f\"Rata-rata Spending Score (1-100): {mean_spending:.2f}\")\n",
    " \n",
    "# Analisis karakteristik setiap cluster\n",
    "analyze_clusters(X, labels, k)"
   ]
  },
  {
   "cell_type": "code",
   "execution_count": null,
   "metadata": {},
   "outputs": [],
   "source": [
    "import matplotlib.pyplot as plt\n",
    " \n",
    "# Menentukan posisi centroid\n",
    "centroids = kmeans.cluster_centers_\n",
    " \n",
    "# Visualisasi cluster\n",
    "plt.figure(figsize=(12, 8))\n",
    " \n",
    "# Plot data\n",
    "plt.scatter(X[:, 0], X[:, 1], c=labels, cmap='viridis', s=50, alpha=0.6, edgecolors='w', marker='o')\n",
    " \n",
    "# Plot centroid\n",
    "plt.scatter(centroids[:, 0], centroids[:, 1], c='red', s=200, marker='X', label='Centroids')\n",
    " \n",
    "# Menambahkan label centroid pada plot\n",
    "for i, centroid in enumerate(centroids):\n",
    "    plt.text(centroid[0], centroid[1], f'Centroid {i+1}', color='red', fontsize=12, ha='center', va='center')\n",
    " \n",
    "# Menambahkan judul dan label\n",
    "plt.title('Visualisasi Cluster dengan Centroid')\n",
    "plt.xlabel('Annual Income (k$)')\n",
    "plt.ylabel('Spending Score (1-100)')\n",
    "plt.legend()\n",
    " \n",
    "plt.show()\n",
    " \n",
    "# Menampilkan nilai centroid\n",
    "print(\"Nilai Centroids:\")\n",
    "for i, centroid in enumerate(centroids):\n",
    "    print(f\"Centroid {i+1}: Annual Income = {centroid[0]:.2f}, Spending Score = {centroid[1]:.2f}\")"
   ]
  },
  {
   "cell_type": "code",
   "execution_count": null,
   "metadata": {},
   "outputs": [],
   "source": []
  },
  {
   "cell_type": "code",
   "execution_count": null,
   "metadata": {},
   "outputs": [],
   "source": []
  },
  {
   "cell_type": "code",
   "execution_count": null,
   "metadata": {},
   "outputs": [],
   "source": []
  }
 ],
 "metadata": {
  "kernelspec": {
   "display_name": "base",
   "language": "python",
   "name": "python3"
  },
  "language_info": {
   "codemirror_mode": {
    "name": "ipython",
    "version": 3
   },
   "file_extension": ".py",
   "mimetype": "text/x-python",
   "name": "python",
   "nbconvert_exporter": "python",
   "pygments_lexer": "ipython3",
   "version": "3.12.7"
  }
 },
 "nbformat": 4,
 "nbformat_minor": 2
}
