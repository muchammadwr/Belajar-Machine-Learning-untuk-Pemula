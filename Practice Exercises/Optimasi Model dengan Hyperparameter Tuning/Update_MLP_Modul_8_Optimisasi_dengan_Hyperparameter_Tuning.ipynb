{
  "nbformat": 4,
  "nbformat_minor": 0,
  "metadata": {
    "colab": {
      "provenance": [],
      "collapsed_sections": [
        "HY_WN0oG_wWG",
        "WKAxkR38B4rw"
      ]
    },
    "kernelspec": {
      "name": "python3",
      "display_name": "Python 3"
    },
    "language_info": {
      "name": "python"
    }
  },
  "cells": [
    {
      "cell_type": "markdown",
      "source": [
        "# Klasifikasi Model"
      ],
      "metadata": {
        "id": "HY_WN0oG_wWG"
      }
    },
    {
      "cell_type": "markdown",
      "source": [
        "## Loading dataset dan Pre-processing dataset"
      ],
      "metadata": {
        "id": "gh93Awl1197v"
      }
    },
    {
      "cell_type": "code",
      "execution_count": null,
      "metadata": {
        "colab": {
          "base_uri": "https://localhost:8080/"
        },
        "id": "x-1h8YMU1g_Y",
        "outputId": "c0817354-6f43-4cf3-eb78-34d5786d69a5"
      },
      "outputs": [
        {
          "output_type": "stream",
          "name": "stderr",
          "text": [
            "/usr/local/lib/python3.10/dist-packages/sklearn/datasets/_openml.py:1022: FutureWarning: The default value of `parser` will change from `'liac-arff'` to `'auto'` in 1.4. You can set `parser='auto'` to silence this warning. Therefore, an `ImportError` will be raised from 1.4 if the dataset is dense and pandas is not installed. Note that the pandas parser may return different data types. See the Notes Section in fetch_openml's API doc for details.\n",
            "  warn(\n"
          ]
        },
        {
          "output_type": "stream",
          "name": "stdout",
          "text": [
            "Shape of training data: (700, 48)\n",
            "Shape of testing data: (300, 48)\n"
          ]
        }
      ],
      "source": [
        "from sklearn.datasets import fetch_openml\n",
        "import pandas as pd\n",
        "from sklearn.model_selection import train_test_split\n",
        "from sklearn.preprocessing import LabelEncoder\n",
        "\n",
        "# Mengunduh dataset German Credit dari OpenML\n",
        "X, y = fetch_openml(name='credit-g', version=1, return_X_y=True, as_frame=True)\n",
        "\n",
        "# Konversi target menjadi numerik\n",
        "le = LabelEncoder()\n",
        "y = le.fit_transform(y)  # Mengubah 'good' menjadi 1 dan 'bad' menjadi 0\n",
        "\n",
        "# Melakukan One-Hot Encoding pada fitur kategorikal\n",
        "X_encoded = pd.get_dummies(X, drop_first=True)  # Konversi fitur kategorikal menjadi numerik\n",
        "\n",
        "# Membagi dataset menjadi training set dan testing set (70% training, 30% testing)\n",
        "X_train, X_test, y_train, y_test = train_test_split(X_encoded, y, test_size=0.3, random_state=42)\n",
        "\n",
        "print(\"Shape of training data:\", X_train.shape)\n",
        "print(\"Shape of testing data:\", X_test.shape)"
      ]
    },
    {
      "cell_type": "code",
      "source": [
        "X_train"
      ],
      "metadata": {
        "colab": {
          "base_uri": "https://localhost:8080/",
          "height": 461
        },
        "id": "zUygOfhi5SJ3",
        "outputId": "4291e533-12c2-4cba-8df1-5a5588438ec5"
      },
      "execution_count": null,
      "outputs": [
        {
          "output_type": "execute_result",
          "data": {
            "text/plain": [
              "     duration  credit_amount  installment_commitment  residence_since   age  \\\n",
              "541      24.0         2032.0                     4.0              4.0  60.0   \n",
              "440      12.0         1884.0                     4.0              4.0  39.0   \n",
              "482      30.0         3622.0                     4.0              4.0  57.0   \n",
              "422      12.0          958.0                     2.0              3.0  47.0   \n",
              "778      36.0         5711.0                     4.0              2.0  38.0   \n",
              "..        ...            ...                     ...              ...   ...   \n",
              "106      18.0         6458.0                     2.0              4.0  39.0   \n",
              "270      18.0         2662.0                     4.0              3.0  32.0   \n",
              "860      24.0         5804.0                     4.0              2.0  27.0   \n",
              "435      12.0         1484.0                     2.0              1.0  25.0   \n",
              "102       6.0          932.0                     3.0              2.0  24.0   \n",
              "\n",
              "     existing_credits  num_dependents  checking_status_<0  \\\n",
              "541               2.0             1.0               False   \n",
              "440               1.0             1.0               False   \n",
              "482               2.0             1.0                True   \n",
              "422               2.0             2.0               False   \n",
              "778               2.0             1.0               False   \n",
              "..                ...             ...                 ...   \n",
              "106               2.0             2.0               False   \n",
              "270               1.0             1.0               False   \n",
              "860               2.0             1.0               False   \n",
              "435               1.0             1.0               False   \n",
              "102               1.0             1.0               False   \n",
              "\n",
              "     checking_status_>=200  checking_status_no checking  ...  \\\n",
              "541                  False                         True  ...   \n",
              "440                  False                         True  ...   \n",
              "482                  False                        False  ...   \n",
              "422                  False                        False  ...   \n",
              "778                  False                         True  ...   \n",
              "..                     ...                          ...  ...   \n",
              "106                  False                         True  ...   \n",
              "270                  False                         True  ...   \n",
              "860                  False                         True  ...   \n",
              "435                  False                        False  ...   \n",
              "102                  False                         True  ...   \n",
              "\n",
              "     property_magnitude_real estate  other_payment_plans_none  \\\n",
              "541                           False                      True   \n",
              "440                           False                      True   \n",
              "482                           False                      True   \n",
              "422                            True                      True   \n",
              "778                           False                      True   \n",
              "..                              ...                       ...   \n",
              "106                           False                     False   \n",
              "270                           False                      True   \n",
              "860                            True                      True   \n",
              "435                            True                      True   \n",
              "102                            True                      True   \n",
              "\n",
              "     other_payment_plans_stores  housing_own  housing_rent  job_skilled  \\\n",
              "541                       False        False         False         True   \n",
              "440                       False         True         False        False   \n",
              "482                       False        False          True         True   \n",
              "422                       False         True         False        False   \n",
              "778                       False         True         False        False   \n",
              "..                          ...          ...           ...          ...   \n",
              "106                       False         True         False        False   \n",
              "270                       False         True         False         True   \n",
              "860                       False         True         False         True   \n",
              "435                       False         True         False         True   \n",
              "102                       False         True         False         True   \n",
              "\n",
              "     job_unemp/unskilled non res  job_unskilled resident  own_telephone_yes  \\\n",
              "541                        False                   False               True   \n",
              "440                        False                   False               True   \n",
              "482                        False                   False               True   \n",
              "422                        False                    True              False   \n",
              "778                        False                   False               True   \n",
              "..                           ...                     ...                ...   \n",
              "106                        False                   False               True   \n",
              "270                        False                   False              False   \n",
              "860                        False                   False              False   \n",
              "435                        False                   False               True   \n",
              "102                        False                   False              False   \n",
              "\n",
              "     foreign_worker_yes  \n",
              "541                True  \n",
              "440                True  \n",
              "482                True  \n",
              "422                True  \n",
              "778                True  \n",
              "..                  ...  \n",
              "106                True  \n",
              "270               False  \n",
              "860                True  \n",
              "435                True  \n",
              "102                True  \n",
              "\n",
              "[700 rows x 48 columns]"
            ],
            "text/html": [
              "\n",
              "  <div id=\"df-d125ec1d-7591-41e8-9944-22cc2314ca25\" class=\"colab-df-container\">\n",
              "    <div>\n",
              "<style scoped>\n",
              "    .dataframe tbody tr th:only-of-type {\n",
              "        vertical-align: middle;\n",
              "    }\n",
              "\n",
              "    .dataframe tbody tr th {\n",
              "        vertical-align: top;\n",
              "    }\n",
              "\n",
              "    .dataframe thead th {\n",
              "        text-align: right;\n",
              "    }\n",
              "</style>\n",
              "<table border=\"1\" class=\"dataframe\">\n",
              "  <thead>\n",
              "    <tr style=\"text-align: right;\">\n",
              "      <th></th>\n",
              "      <th>duration</th>\n",
              "      <th>credit_amount</th>\n",
              "      <th>installment_commitment</th>\n",
              "      <th>residence_since</th>\n",
              "      <th>age</th>\n",
              "      <th>existing_credits</th>\n",
              "      <th>num_dependents</th>\n",
              "      <th>checking_status_&lt;0</th>\n",
              "      <th>checking_status_&gt;=200</th>\n",
              "      <th>checking_status_no checking</th>\n",
              "      <th>...</th>\n",
              "      <th>property_magnitude_real estate</th>\n",
              "      <th>other_payment_plans_none</th>\n",
              "      <th>other_payment_plans_stores</th>\n",
              "      <th>housing_own</th>\n",
              "      <th>housing_rent</th>\n",
              "      <th>job_skilled</th>\n",
              "      <th>job_unemp/unskilled non res</th>\n",
              "      <th>job_unskilled resident</th>\n",
              "      <th>own_telephone_yes</th>\n",
              "      <th>foreign_worker_yes</th>\n",
              "    </tr>\n",
              "  </thead>\n",
              "  <tbody>\n",
              "    <tr>\n",
              "      <th>541</th>\n",
              "      <td>24.0</td>\n",
              "      <td>2032.0</td>\n",
              "      <td>4.0</td>\n",
              "      <td>4.0</td>\n",
              "      <td>60.0</td>\n",
              "      <td>2.0</td>\n",
              "      <td>1.0</td>\n",
              "      <td>False</td>\n",
              "      <td>False</td>\n",
              "      <td>True</td>\n",
              "      <td>...</td>\n",
              "      <td>False</td>\n",
              "      <td>True</td>\n",
              "      <td>False</td>\n",
              "      <td>False</td>\n",
              "      <td>False</td>\n",
              "      <td>True</td>\n",
              "      <td>False</td>\n",
              "      <td>False</td>\n",
              "      <td>True</td>\n",
              "      <td>True</td>\n",
              "    </tr>\n",
              "    <tr>\n",
              "      <th>440</th>\n",
              "      <td>12.0</td>\n",
              "      <td>1884.0</td>\n",
              "      <td>4.0</td>\n",
              "      <td>4.0</td>\n",
              "      <td>39.0</td>\n",
              "      <td>1.0</td>\n",
              "      <td>1.0</td>\n",
              "      <td>False</td>\n",
              "      <td>False</td>\n",
              "      <td>True</td>\n",
              "      <td>...</td>\n",
              "      <td>False</td>\n",
              "      <td>True</td>\n",
              "      <td>False</td>\n",
              "      <td>True</td>\n",
              "      <td>False</td>\n",
              "      <td>False</td>\n",
              "      <td>False</td>\n",
              "      <td>False</td>\n",
              "      <td>True</td>\n",
              "      <td>True</td>\n",
              "    </tr>\n",
              "    <tr>\n",
              "      <th>482</th>\n",
              "      <td>30.0</td>\n",
              "      <td>3622.0</td>\n",
              "      <td>4.0</td>\n",
              "      <td>4.0</td>\n",
              "      <td>57.0</td>\n",
              "      <td>2.0</td>\n",
              "      <td>1.0</td>\n",
              "      <td>True</td>\n",
              "      <td>False</td>\n",
              "      <td>False</td>\n",
              "      <td>...</td>\n",
              "      <td>False</td>\n",
              "      <td>True</td>\n",
              "      <td>False</td>\n",
              "      <td>False</td>\n",
              "      <td>True</td>\n",
              "      <td>True</td>\n",
              "      <td>False</td>\n",
              "      <td>False</td>\n",
              "      <td>True</td>\n",
              "      <td>True</td>\n",
              "    </tr>\n",
              "    <tr>\n",
              "      <th>422</th>\n",
              "      <td>12.0</td>\n",
              "      <td>958.0</td>\n",
              "      <td>2.0</td>\n",
              "      <td>3.0</td>\n",
              "      <td>47.0</td>\n",
              "      <td>2.0</td>\n",
              "      <td>2.0</td>\n",
              "      <td>False</td>\n",
              "      <td>False</td>\n",
              "      <td>False</td>\n",
              "      <td>...</td>\n",
              "      <td>True</td>\n",
              "      <td>True</td>\n",
              "      <td>False</td>\n",
              "      <td>True</td>\n",
              "      <td>False</td>\n",
              "      <td>False</td>\n",
              "      <td>False</td>\n",
              "      <td>True</td>\n",
              "      <td>False</td>\n",
              "      <td>True</td>\n",
              "    </tr>\n",
              "    <tr>\n",
              "      <th>778</th>\n",
              "      <td>36.0</td>\n",
              "      <td>5711.0</td>\n",
              "      <td>4.0</td>\n",
              "      <td>2.0</td>\n",
              "      <td>38.0</td>\n",
              "      <td>2.0</td>\n",
              "      <td>1.0</td>\n",
              "      <td>False</td>\n",
              "      <td>False</td>\n",
              "      <td>True</td>\n",
              "      <td>...</td>\n",
              "      <td>False</td>\n",
              "      <td>True</td>\n",
              "      <td>False</td>\n",
              "      <td>True</td>\n",
              "      <td>False</td>\n",
              "      <td>False</td>\n",
              "      <td>False</td>\n",
              "      <td>False</td>\n",
              "      <td>True</td>\n",
              "      <td>True</td>\n",
              "    </tr>\n",
              "    <tr>\n",
              "      <th>...</th>\n",
              "      <td>...</td>\n",
              "      <td>...</td>\n",
              "      <td>...</td>\n",
              "      <td>...</td>\n",
              "      <td>...</td>\n",
              "      <td>...</td>\n",
              "      <td>...</td>\n",
              "      <td>...</td>\n",
              "      <td>...</td>\n",
              "      <td>...</td>\n",
              "      <td>...</td>\n",
              "      <td>...</td>\n",
              "      <td>...</td>\n",
              "      <td>...</td>\n",
              "      <td>...</td>\n",
              "      <td>...</td>\n",
              "      <td>...</td>\n",
              "      <td>...</td>\n",
              "      <td>...</td>\n",
              "      <td>...</td>\n",
              "      <td>...</td>\n",
              "    </tr>\n",
              "    <tr>\n",
              "      <th>106</th>\n",
              "      <td>18.0</td>\n",
              "      <td>6458.0</td>\n",
              "      <td>2.0</td>\n",
              "      <td>4.0</td>\n",
              "      <td>39.0</td>\n",
              "      <td>2.0</td>\n",
              "      <td>2.0</td>\n",
              "      <td>False</td>\n",
              "      <td>False</td>\n",
              "      <td>True</td>\n",
              "      <td>...</td>\n",
              "      <td>False</td>\n",
              "      <td>False</td>\n",
              "      <td>False</td>\n",
              "      <td>True</td>\n",
              "      <td>False</td>\n",
              "      <td>False</td>\n",
              "      <td>False</td>\n",
              "      <td>False</td>\n",
              "      <td>True</td>\n",
              "      <td>True</td>\n",
              "    </tr>\n",
              "    <tr>\n",
              "      <th>270</th>\n",
              "      <td>18.0</td>\n",
              "      <td>2662.0</td>\n",
              "      <td>4.0</td>\n",
              "      <td>3.0</td>\n",
              "      <td>32.0</td>\n",
              "      <td>1.0</td>\n",
              "      <td>1.0</td>\n",
              "      <td>False</td>\n",
              "      <td>False</td>\n",
              "      <td>True</td>\n",
              "      <td>...</td>\n",
              "      <td>False</td>\n",
              "      <td>True</td>\n",
              "      <td>False</td>\n",
              "      <td>True</td>\n",
              "      <td>False</td>\n",
              "      <td>True</td>\n",
              "      <td>False</td>\n",
              "      <td>False</td>\n",
              "      <td>False</td>\n",
              "      <td>False</td>\n",
              "    </tr>\n",
              "    <tr>\n",
              "      <th>860</th>\n",
              "      <td>24.0</td>\n",
              "      <td>5804.0</td>\n",
              "      <td>4.0</td>\n",
              "      <td>2.0</td>\n",
              "      <td>27.0</td>\n",
              "      <td>2.0</td>\n",
              "      <td>1.0</td>\n",
              "      <td>False</td>\n",
              "      <td>False</td>\n",
              "      <td>True</td>\n",
              "      <td>...</td>\n",
              "      <td>True</td>\n",
              "      <td>True</td>\n",
              "      <td>False</td>\n",
              "      <td>True</td>\n",
              "      <td>False</td>\n",
              "      <td>True</td>\n",
              "      <td>False</td>\n",
              "      <td>False</td>\n",
              "      <td>False</td>\n",
              "      <td>True</td>\n",
              "    </tr>\n",
              "    <tr>\n",
              "      <th>435</th>\n",
              "      <td>12.0</td>\n",
              "      <td>1484.0</td>\n",
              "      <td>2.0</td>\n",
              "      <td>1.0</td>\n",
              "      <td>25.0</td>\n",
              "      <td>1.0</td>\n",
              "      <td>1.0</td>\n",
              "      <td>False</td>\n",
              "      <td>False</td>\n",
              "      <td>False</td>\n",
              "      <td>...</td>\n",
              "      <td>True</td>\n",
              "      <td>True</td>\n",
              "      <td>False</td>\n",
              "      <td>True</td>\n",
              "      <td>False</td>\n",
              "      <td>True</td>\n",
              "      <td>False</td>\n",
              "      <td>False</td>\n",
              "      <td>True</td>\n",
              "      <td>True</td>\n",
              "    </tr>\n",
              "    <tr>\n",
              "      <th>102</th>\n",
              "      <td>6.0</td>\n",
              "      <td>932.0</td>\n",
              "      <td>3.0</td>\n",
              "      <td>2.0</td>\n",
              "      <td>24.0</td>\n",
              "      <td>1.0</td>\n",
              "      <td>1.0</td>\n",
              "      <td>False</td>\n",
              "      <td>False</td>\n",
              "      <td>True</td>\n",
              "      <td>...</td>\n",
              "      <td>True</td>\n",
              "      <td>True</td>\n",
              "      <td>False</td>\n",
              "      <td>True</td>\n",
              "      <td>False</td>\n",
              "      <td>True</td>\n",
              "      <td>False</td>\n",
              "      <td>False</td>\n",
              "      <td>False</td>\n",
              "      <td>True</td>\n",
              "    </tr>\n",
              "  </tbody>\n",
              "</table>\n",
              "<p>700 rows × 48 columns</p>\n",
              "</div>\n",
              "    <div class=\"colab-df-buttons\">\n",
              "\n",
              "  <div class=\"colab-df-container\">\n",
              "    <button class=\"colab-df-convert\" onclick=\"convertToInteractive('df-d125ec1d-7591-41e8-9944-22cc2314ca25')\"\n",
              "            title=\"Convert this dataframe to an interactive table.\"\n",
              "            style=\"display:none;\">\n",
              "\n",
              "  <svg xmlns=\"http://www.w3.org/2000/svg\" height=\"24px\" viewBox=\"0 -960 960 960\">\n",
              "    <path d=\"M120-120v-720h720v720H120Zm60-500h600v-160H180v160Zm220 220h160v-160H400v160Zm0 220h160v-160H400v160ZM180-400h160v-160H180v160Zm440 0h160v-160H620v160ZM180-180h160v-160H180v160Zm440 0h160v-160H620v160Z\"/>\n",
              "  </svg>\n",
              "    </button>\n",
              "\n",
              "  <style>\n",
              "    .colab-df-container {\n",
              "      display:flex;\n",
              "      gap: 12px;\n",
              "    }\n",
              "\n",
              "    .colab-df-convert {\n",
              "      background-color: #E8F0FE;\n",
              "      border: none;\n",
              "      border-radius: 50%;\n",
              "      cursor: pointer;\n",
              "      display: none;\n",
              "      fill: #1967D2;\n",
              "      height: 32px;\n",
              "      padding: 0 0 0 0;\n",
              "      width: 32px;\n",
              "    }\n",
              "\n",
              "    .colab-df-convert:hover {\n",
              "      background-color: #E2EBFA;\n",
              "      box-shadow: 0px 1px 2px rgba(60, 64, 67, 0.3), 0px 1px 3px 1px rgba(60, 64, 67, 0.15);\n",
              "      fill: #174EA6;\n",
              "    }\n",
              "\n",
              "    .colab-df-buttons div {\n",
              "      margin-bottom: 4px;\n",
              "    }\n",
              "\n",
              "    [theme=dark] .colab-df-convert {\n",
              "      background-color: #3B4455;\n",
              "      fill: #D2E3FC;\n",
              "    }\n",
              "\n",
              "    [theme=dark] .colab-df-convert:hover {\n",
              "      background-color: #434B5C;\n",
              "      box-shadow: 0px 1px 3px 1px rgba(0, 0, 0, 0.15);\n",
              "      filter: drop-shadow(0px 1px 2px rgba(0, 0, 0, 0.3));\n",
              "      fill: #FFFFFF;\n",
              "    }\n",
              "  </style>\n",
              "\n",
              "    <script>\n",
              "      const buttonEl =\n",
              "        document.querySelector('#df-d125ec1d-7591-41e8-9944-22cc2314ca25 button.colab-df-convert');\n",
              "      buttonEl.style.display =\n",
              "        google.colab.kernel.accessAllowed ? 'block' : 'none';\n",
              "\n",
              "      async function convertToInteractive(key) {\n",
              "        const element = document.querySelector('#df-d125ec1d-7591-41e8-9944-22cc2314ca25');\n",
              "        const dataTable =\n",
              "          await google.colab.kernel.invokeFunction('convertToInteractive',\n",
              "                                                    [key], {});\n",
              "        if (!dataTable) return;\n",
              "\n",
              "        const docLinkHtml = 'Like what you see? Visit the ' +\n",
              "          '<a target=\"_blank\" href=https://colab.research.google.com/notebooks/data_table.ipynb>data table notebook</a>'\n",
              "          + ' to learn more about interactive tables.';\n",
              "        element.innerHTML = '';\n",
              "        dataTable['output_type'] = 'display_data';\n",
              "        await google.colab.output.renderOutput(dataTable, element);\n",
              "        const docLink = document.createElement('div');\n",
              "        docLink.innerHTML = docLinkHtml;\n",
              "        element.appendChild(docLink);\n",
              "      }\n",
              "    </script>\n",
              "  </div>\n",
              "\n",
              "\n",
              "<div id=\"df-23dc4ec0-bcc3-48f9-b1bc-38a19d022388\">\n",
              "  <button class=\"colab-df-quickchart\" onclick=\"quickchart('df-23dc4ec0-bcc3-48f9-b1bc-38a19d022388')\"\n",
              "            title=\"Suggest charts\"\n",
              "            style=\"display:none;\">\n",
              "\n",
              "<svg xmlns=\"http://www.w3.org/2000/svg\" height=\"24px\"viewBox=\"0 0 24 24\"\n",
              "     width=\"24px\">\n",
              "    <g>\n",
              "        <path d=\"M19 3H5c-1.1 0-2 .9-2 2v14c0 1.1.9 2 2 2h14c1.1 0 2-.9 2-2V5c0-1.1-.9-2-2-2zM9 17H7v-7h2v7zm4 0h-2V7h2v10zm4 0h-2v-4h2v4z\"/>\n",
              "    </g>\n",
              "</svg>\n",
              "  </button>\n",
              "\n",
              "<style>\n",
              "  .colab-df-quickchart {\n",
              "      --bg-color: #E8F0FE;\n",
              "      --fill-color: #1967D2;\n",
              "      --hover-bg-color: #E2EBFA;\n",
              "      --hover-fill-color: #174EA6;\n",
              "      --disabled-fill-color: #AAA;\n",
              "      --disabled-bg-color: #DDD;\n",
              "  }\n",
              "\n",
              "  [theme=dark] .colab-df-quickchart {\n",
              "      --bg-color: #3B4455;\n",
              "      --fill-color: #D2E3FC;\n",
              "      --hover-bg-color: #434B5C;\n",
              "      --hover-fill-color: #FFFFFF;\n",
              "      --disabled-bg-color: #3B4455;\n",
              "      --disabled-fill-color: #666;\n",
              "  }\n",
              "\n",
              "  .colab-df-quickchart {\n",
              "    background-color: var(--bg-color);\n",
              "    border: none;\n",
              "    border-radius: 50%;\n",
              "    cursor: pointer;\n",
              "    display: none;\n",
              "    fill: var(--fill-color);\n",
              "    height: 32px;\n",
              "    padding: 0;\n",
              "    width: 32px;\n",
              "  }\n",
              "\n",
              "  .colab-df-quickchart:hover {\n",
              "    background-color: var(--hover-bg-color);\n",
              "    box-shadow: 0 1px 2px rgba(60, 64, 67, 0.3), 0 1px 3px 1px rgba(60, 64, 67, 0.15);\n",
              "    fill: var(--button-hover-fill-color);\n",
              "  }\n",
              "\n",
              "  .colab-df-quickchart-complete:disabled,\n",
              "  .colab-df-quickchart-complete:disabled:hover {\n",
              "    background-color: var(--disabled-bg-color);\n",
              "    fill: var(--disabled-fill-color);\n",
              "    box-shadow: none;\n",
              "  }\n",
              "\n",
              "  .colab-df-spinner {\n",
              "    border: 2px solid var(--fill-color);\n",
              "    border-color: transparent;\n",
              "    border-bottom-color: var(--fill-color);\n",
              "    animation:\n",
              "      spin 1s steps(1) infinite;\n",
              "  }\n",
              "\n",
              "  @keyframes spin {\n",
              "    0% {\n",
              "      border-color: transparent;\n",
              "      border-bottom-color: var(--fill-color);\n",
              "      border-left-color: var(--fill-color);\n",
              "    }\n",
              "    20% {\n",
              "      border-color: transparent;\n",
              "      border-left-color: var(--fill-color);\n",
              "      border-top-color: var(--fill-color);\n",
              "    }\n",
              "    30% {\n",
              "      border-color: transparent;\n",
              "      border-left-color: var(--fill-color);\n",
              "      border-top-color: var(--fill-color);\n",
              "      border-right-color: var(--fill-color);\n",
              "    }\n",
              "    40% {\n",
              "      border-color: transparent;\n",
              "      border-right-color: var(--fill-color);\n",
              "      border-top-color: var(--fill-color);\n",
              "    }\n",
              "    60% {\n",
              "      border-color: transparent;\n",
              "      border-right-color: var(--fill-color);\n",
              "    }\n",
              "    80% {\n",
              "      border-color: transparent;\n",
              "      border-right-color: var(--fill-color);\n",
              "      border-bottom-color: var(--fill-color);\n",
              "    }\n",
              "    90% {\n",
              "      border-color: transparent;\n",
              "      border-bottom-color: var(--fill-color);\n",
              "    }\n",
              "  }\n",
              "</style>\n",
              "\n",
              "  <script>\n",
              "    async function quickchart(key) {\n",
              "      const quickchartButtonEl =\n",
              "        document.querySelector('#' + key + ' button');\n",
              "      quickchartButtonEl.disabled = true;  // To prevent multiple clicks.\n",
              "      quickchartButtonEl.classList.add('colab-df-spinner');\n",
              "      try {\n",
              "        const charts = await google.colab.kernel.invokeFunction(\n",
              "            'suggestCharts', [key], {});\n",
              "      } catch (error) {\n",
              "        console.error('Error during call to suggestCharts:', error);\n",
              "      }\n",
              "      quickchartButtonEl.classList.remove('colab-df-spinner');\n",
              "      quickchartButtonEl.classList.add('colab-df-quickchart-complete');\n",
              "    }\n",
              "    (() => {\n",
              "      let quickchartButtonEl =\n",
              "        document.querySelector('#df-23dc4ec0-bcc3-48f9-b1bc-38a19d022388 button');\n",
              "      quickchartButtonEl.style.display =\n",
              "        google.colab.kernel.accessAllowed ? 'block' : 'none';\n",
              "    })();\n",
              "  </script>\n",
              "</div>\n",
              "\n",
              "  <div id=\"id_c798f1ce-72b7-49dd-8cbf-ce7c361c4636\">\n",
              "    <style>\n",
              "      .colab-df-generate {\n",
              "        background-color: #E8F0FE;\n",
              "        border: none;\n",
              "        border-radius: 50%;\n",
              "        cursor: pointer;\n",
              "        display: none;\n",
              "        fill: #1967D2;\n",
              "        height: 32px;\n",
              "        padding: 0 0 0 0;\n",
              "        width: 32px;\n",
              "      }\n",
              "\n",
              "      .colab-df-generate:hover {\n",
              "        background-color: #E2EBFA;\n",
              "        box-shadow: 0px 1px 2px rgba(60, 64, 67, 0.3), 0px 1px 3px 1px rgba(60, 64, 67, 0.15);\n",
              "        fill: #174EA6;\n",
              "      }\n",
              "\n",
              "      [theme=dark] .colab-df-generate {\n",
              "        background-color: #3B4455;\n",
              "        fill: #D2E3FC;\n",
              "      }\n",
              "\n",
              "      [theme=dark] .colab-df-generate:hover {\n",
              "        background-color: #434B5C;\n",
              "        box-shadow: 0px 1px 3px 1px rgba(0, 0, 0, 0.15);\n",
              "        filter: drop-shadow(0px 1px 2px rgba(0, 0, 0, 0.3));\n",
              "        fill: #FFFFFF;\n",
              "      }\n",
              "    </style>\n",
              "    <button class=\"colab-df-generate\" onclick=\"generateWithVariable('X_train')\"\n",
              "            title=\"Generate code using this dataframe.\"\n",
              "            style=\"display:none;\">\n",
              "\n",
              "  <svg xmlns=\"http://www.w3.org/2000/svg\" height=\"24px\"viewBox=\"0 0 24 24\"\n",
              "       width=\"24px\">\n",
              "    <path d=\"M7,19H8.4L18.45,9,17,7.55,7,17.6ZM5,21V16.75L18.45,3.32a2,2,0,0,1,2.83,0l1.4,1.43a1.91,1.91,0,0,1,.58,1.4,1.91,1.91,0,0,1-.58,1.4L9.25,21ZM18.45,9,17,7.55Zm-12,3A5.31,5.31,0,0,0,4.9,8.1,5.31,5.31,0,0,0,1,6.5,5.31,5.31,0,0,0,4.9,4.9,5.31,5.31,0,0,0,6.5,1,5.31,5.31,0,0,0,8.1,4.9,5.31,5.31,0,0,0,12,6.5,5.46,5.46,0,0,0,6.5,12Z\"/>\n",
              "  </svg>\n",
              "    </button>\n",
              "    <script>\n",
              "      (() => {\n",
              "      const buttonEl =\n",
              "        document.querySelector('#id_c798f1ce-72b7-49dd-8cbf-ce7c361c4636 button.colab-df-generate');\n",
              "      buttonEl.style.display =\n",
              "        google.colab.kernel.accessAllowed ? 'block' : 'none';\n",
              "\n",
              "      buttonEl.onclick = () => {\n",
              "        google.colab.notebook.generateWithVariable('X_train');\n",
              "      }\n",
              "      })();\n",
              "    </script>\n",
              "  </div>\n",
              "\n",
              "    </div>\n",
              "  </div>\n"
            ],
            "application/vnd.google.colaboratory.intrinsic+json": {
              "type": "dataframe",
              "variable_name": "X_train"
            }
          },
          "metadata": {},
          "execution_count": 55
        }
      ]
    },
    {
      "cell_type": "markdown",
      "source": [
        "## Membangun foundation model menggunakan random forest"
      ],
      "metadata": {
        "id": "xC3SUMy04o3V"
      }
    },
    {
      "cell_type": "code",
      "source": [
        "from sklearn.ensemble import RandomForestClassifier\n",
        "\n",
        "# Inisialisasi model Random Forest tanpa hyperparameter tuning\n",
        "rf = RandomForestClassifier(random_state=42)\n",
        "rf.fit(X_train, y_train)\n",
        "\n",
        "# Evaluasi awal model tanpa tuning\n",
        "initial_score = rf.score(X_test, y_test)\n",
        "print(f\"Initial accuracy on test set (without tuning): {initial_score:.2f}\")"
      ],
      "metadata": {
        "colab": {
          "base_uri": "https://localhost:8080/"
        },
        "id": "DruhzrmT3ZI2",
        "outputId": "c221431c-85f8-42df-d54c-c3b2d7797793"
      },
      "execution_count": null,
      "outputs": [
        {
          "output_type": "stream",
          "name": "stdout",
          "text": [
            "Initial accuracy on test set (without tuning): 0.78\n"
          ]
        }
      ]
    },
    {
      "cell_type": "markdown",
      "source": [
        "## Grid Search"
      ],
      "metadata": {
        "id": "N1NaJkmG5YUB"
      }
    },
    {
      "cell_type": "code",
      "source": [
        "from sklearn.model_selection import GridSearchCV\n",
        "\n",
        "# Definisikan parameter grid untuk Grid Search\n",
        "param_grid = {\n",
        "    'n_estimators': [100, 200, 300],\n",
        "    'max_depth': [10, 20, 30],\n",
        "    'min_samples_split': [2, 5, 10],\n",
        "    'criterion': ['gini', 'entropy']\n",
        "}\n",
        "\n",
        "# Inisialisasi GridSearchCV\n",
        "grid_search = GridSearchCV(estimator=rf, param_grid=param_grid, cv=3, n_jobs=-1, verbose=2)\n",
        "grid_search.fit(X_train, y_train)\n",
        "\n",
        "# Output hasil terbaik\n",
        "print(f\"Best parameters (Grid Search): {grid_search.best_params_}\")\n",
        "best_rf_grid = grid_search.best_estimator_\n",
        "\n",
        "# Evaluasi performa model pada test set\n",
        "grid_search_score = best_rf_grid.score(X_test, y_test)\n",
        "print(f\"Accuracy after Grid Search: {grid_search_score:.2f}\")"
      ],
      "metadata": {
        "colab": {
          "base_uri": "https://localhost:8080/"
        },
        "id": "bQJucC_P4uRt",
        "outputId": "8c190745-5171-40ba-a487-a7e1a2a2da40"
      },
      "execution_count": null,
      "outputs": [
        {
          "output_type": "stream",
          "name": "stdout",
          "text": [
            "Fitting 3 folds for each of 54 candidates, totalling 162 fits\n",
            "Best parameters (Grid Search): {'criterion': 'entropy', 'max_depth': 10, 'min_samples_split': 5, 'n_estimators': 100}\n",
            "Accuracy after Grid Search: 0.78\n"
          ]
        }
      ]
    },
    {
      "cell_type": "markdown",
      "source": [
        "## Random Search"
      ],
      "metadata": {
        "id": "04zpz5zS7NTy"
      }
    },
    {
      "cell_type": "code",
      "source": [
        "from sklearn.model_selection import RandomizedSearchCV\n",
        "import numpy as np\n",
        "\n",
        "# Definisikan ruang pencarian untuk Random Search\n",
        "param_dist = {\n",
        "    'n_estimators': np.linspace(100, 500, 5, dtype=int),\n",
        "    'max_depth': np.linspace(10, 50, 5, dtype=int),\n",
        "    'min_samples_split': [2, 5, 10],\n",
        "    'criterion': ['gini', 'entropy']\n",
        "}\n",
        "\n",
        "# Inisialisasi RandomizedSearchCV\n",
        "random_search = RandomizedSearchCV(estimator=rf, param_distributions=param_dist, n_iter=20, cv=3, n_jobs=-1, verbose=2, random_state=42)\n",
        "random_search.fit(X_train, y_train)\n",
        "\n",
        "# Output hasil terbaik\n",
        "print(f\"Best parameters (Random Search): {random_search.best_params_}\")\n",
        "best_rf_random = random_search.best_estimator_\n",
        "\n",
        "# Evaluasi performa model pada test set\n",
        "random_search_score = best_rf_random.score(X_test, y_test)\n",
        "print(f\"Accuracy after Random Search: {random_search_score:.2f}\")"
      ],
      "metadata": {
        "colab": {
          "base_uri": "https://localhost:8080/"
        },
        "id": "p04kt4Kq5brr",
        "outputId": "62c700a9-8bf5-4ea2-908d-b2c4b681376a"
      },
      "execution_count": null,
      "outputs": [
        {
          "output_type": "stream",
          "name": "stdout",
          "text": [
            "Fitting 3 folds for each of 20 candidates, totalling 60 fits\n",
            "Best parameters (Random Search): {'n_estimators': 100, 'min_samples_split': 5, 'max_depth': 30, 'criterion': 'entropy'}\n",
            "Accuracy after Random Search: 0.78\n"
          ]
        }
      ]
    },
    {
      "cell_type": "markdown",
      "source": [
        "## Bayesian Optimization"
      ],
      "metadata": {
        "id": "TeFeMXzm7mQ3"
      }
    },
    {
      "cell_type": "code",
      "source": [
        "!pip install scikit-optimize"
      ],
      "metadata": {
        "colab": {
          "base_uri": "https://localhost:8080/"
        },
        "id": "KA83KeYv7u8A",
        "outputId": "da67ab63-e374-4234-a359-7ce0f720a15c"
      },
      "execution_count": null,
      "outputs": [
        {
          "output_type": "stream",
          "name": "stdout",
          "text": [
            "Requirement already satisfied: scikit-optimize in /usr/local/lib/python3.10/dist-packages (0.10.2)\n",
            "Requirement already satisfied: joblib>=0.11 in /usr/local/lib/python3.10/dist-packages (from scikit-optimize) (1.4.2)\n",
            "Requirement already satisfied: pyaml>=16.9 in /usr/local/lib/python3.10/dist-packages (from scikit-optimize) (24.7.0)\n",
            "Requirement already satisfied: numpy>=1.20.3 in /usr/local/lib/python3.10/dist-packages (from scikit-optimize) (1.26.4)\n",
            "Requirement already satisfied: scipy>=1.1.0 in /usr/local/lib/python3.10/dist-packages (from scikit-optimize) (1.13.1)\n",
            "Requirement already satisfied: scikit-learn>=1.0.0 in /usr/local/lib/python3.10/dist-packages (from scikit-optimize) (1.3.2)\n",
            "Requirement already satisfied: packaging>=21.3 in /usr/local/lib/python3.10/dist-packages (from scikit-optimize) (24.1)\n",
            "Requirement already satisfied: PyYAML in /usr/local/lib/python3.10/dist-packages (from pyaml>=16.9->scikit-optimize) (6.0.2)\n",
            "Requirement already satisfied: threadpoolctl>=2.0.0 in /usr/local/lib/python3.10/dist-packages (from scikit-learn>=1.0.0->scikit-optimize) (3.5.0)\n"
          ]
        }
      ]
    },
    {
      "cell_type": "code",
      "source": [
        "from skopt import BayesSearchCV\n",
        "\n",
        "# Definisikan ruang pencarian untuk Bayesian Optimization\n",
        "param_space = {\n",
        "    'n_estimators': (100, 500),\n",
        "    'max_depth': (10, 50),\n",
        "    'min_samples_split': (2, 10),\n",
        "    'criterion': ['gini', 'entropy']\n",
        "}\n",
        "\n",
        "# Inisialisasi BayesSearchCV\n",
        "bayes_search = BayesSearchCV(estimator=rf, search_spaces=param_space, n_iter=32, cv=3, n_jobs=-1, verbose=2, random_state=42)\n",
        "bayes_search.fit(X_train, y_train)\n",
        "\n",
        "# Output hasil terbaik\n",
        "print(f\"Best parameters (Bayesian Optimization): {bayes_search.best_params_}\")\n",
        "best_rf_bayes = bayes_search.best_estimator_\n",
        "\n",
        "# Evaluasi performa model pada test set\n",
        "bayes_search_score = best_rf_bayes.score(X_test, y_test)\n",
        "print(f\"Accuracy after Bayesian Optimization: {bayes_search_score:.2f}\")"
      ],
      "metadata": {
        "colab": {
          "base_uri": "https://localhost:8080/"
        },
        "id": "wVMLyh7s7QdX",
        "outputId": "9747f8b1-0e14-45d4-f87e-83124090656f"
      },
      "execution_count": null,
      "outputs": [
        {
          "output_type": "stream",
          "name": "stdout",
          "text": [
            "Fitting 3 folds for each of 1 candidates, totalling 3 fits\n",
            "Fitting 3 folds for each of 1 candidates, totalling 3 fits\n",
            "Fitting 3 folds for each of 1 candidates, totalling 3 fits\n",
            "Fitting 3 folds for each of 1 candidates, totalling 3 fits\n",
            "Fitting 3 folds for each of 1 candidates, totalling 3 fits\n",
            "Fitting 3 folds for each of 1 candidates, totalling 3 fits\n",
            "Fitting 3 folds for each of 1 candidates, totalling 3 fits\n",
            "Fitting 3 folds for each of 1 candidates, totalling 3 fits\n",
            "Fitting 3 folds for each of 1 candidates, totalling 3 fits\n",
            "Fitting 3 folds for each of 1 candidates, totalling 3 fits\n",
            "Fitting 3 folds for each of 1 candidates, totalling 3 fits\n",
            "Fitting 3 folds for each of 1 candidates, totalling 3 fits\n",
            "Fitting 3 folds for each of 1 candidates, totalling 3 fits\n",
            "Fitting 3 folds for each of 1 candidates, totalling 3 fits\n",
            "Fitting 3 folds for each of 1 candidates, totalling 3 fits\n",
            "Fitting 3 folds for each of 1 candidates, totalling 3 fits\n",
            "Fitting 3 folds for each of 1 candidates, totalling 3 fits\n",
            "Fitting 3 folds for each of 1 candidates, totalling 3 fits\n",
            "Fitting 3 folds for each of 1 candidates, totalling 3 fits\n",
            "Fitting 3 folds for each of 1 candidates, totalling 3 fits\n",
            "Fitting 3 folds for each of 1 candidates, totalling 3 fits\n",
            "Fitting 3 folds for each of 1 candidates, totalling 3 fits\n",
            "Fitting 3 folds for each of 1 candidates, totalling 3 fits\n",
            "Fitting 3 folds for each of 1 candidates, totalling 3 fits\n",
            "Fitting 3 folds for each of 1 candidates, totalling 3 fits\n",
            "Fitting 3 folds for each of 1 candidates, totalling 3 fits\n",
            "Fitting 3 folds for each of 1 candidates, totalling 3 fits\n",
            "Fitting 3 folds for each of 1 candidates, totalling 3 fits\n",
            "Fitting 3 folds for each of 1 candidates, totalling 3 fits\n",
            "Fitting 3 folds for each of 1 candidates, totalling 3 fits\n",
            "Fitting 3 folds for each of 1 candidates, totalling 3 fits\n",
            "Fitting 3 folds for each of 1 candidates, totalling 3 fits\n",
            "Best parameters (Bayesian Optimization): OrderedDict([('criterion', 'entropy'), ('max_depth', 21), ('min_samples_split', 6), ('n_estimators', 101)])\n",
            "Accuracy after Bayesian Optimization: 0.77\n"
          ]
        }
      ]
    },
    {
      "cell_type": "markdown",
      "source": [
        "## Optimasi Random Search"
      ],
      "metadata": {
        "id": "qmDWegBU9Hcp"
      }
    },
    {
      "cell_type": "code",
      "source": [
        "from sklearn.model_selection import RandomizedSearchCV\n",
        "from sklearn.ensemble import RandomForestClassifier\n",
        "import numpy as np\n",
        "\n",
        "# Inisialisasi model Random Forest\n",
        "rf = RandomForestClassifier(random_state=42)\n",
        "\n",
        "# Memperluas ruang pencarian hyperparameter\n",
        "param_dist = {\n",
        "    'n_estimators': np.arange(100, 1000, 100),  # dari 100 hingga 1000 dengan langkah 100\n",
        "    'max_depth': [None] + list(np.arange(10, 50, 10)),  # termasuk None untuk tanpa batas\n",
        "    'min_samples_split': np.arange(2, 11, 2),  # dari 2 hingga 10 dengan langkah 2\n",
        "    'min_samples_leaf': np.arange(1, 5),  # daun minimal\n",
        "    'bootstrap': [True, False],  # mencoba model dengan atau tanpa bootstrap\n",
        "    'criterion': ['gini', 'entropy']  # menggunakan dua jenis criteria\n",
        "}\n",
        "\n",
        "# Inisialisasi RandomizedSearchCV\n",
        "random_search = RandomizedSearchCV(\n",
        "    estimator=rf,\n",
        "    param_distributions=param_dist,\n",
        "    n_iter=50,  # meningkatkan jumlah iterasi\n",
        "    cv=5,  # meningkatkan cross-validation ke 5 fold untuk hasil lebih konsisten\n",
        "    n_jobs=-1,\n",
        "    verbose=2,\n",
        "    random_state=42\n",
        ")\n",
        "\n",
        "# Melakukan tuning\n",
        "random_search.fit(X_train, y_train)\n",
        "\n",
        "# Output hasil terbaik\n",
        "print(f\"Best parameters (Random Search): {random_search.best_params_}\")\n",
        "best_rf_random = random_search.best_estimator_\n",
        "\n",
        "# Evaluasi performa model pada test set\n",
        "random_search_score = best_rf_random.score(X_test, y_test)\n",
        "print(f\"Accuracy after Random Search: {random_search_score:.2f}\")"
      ],
      "metadata": {
        "colab": {
          "base_uri": "https://localhost:8080/"
        },
        "id": "yWmtYyEP7p-Q",
        "outputId": "73b6b60d-5b71-44e1-8e00-c3fe937e435e"
      },
      "execution_count": null,
      "outputs": [
        {
          "output_type": "stream",
          "name": "stdout",
          "text": [
            "Fitting 5 folds for each of 50 candidates, totalling 250 fits\n",
            "Best parameters (Random Search): {'n_estimators': 600, 'min_samples_split': 10, 'min_samples_leaf': 4, 'max_depth': 40, 'criterion': 'gini', 'bootstrap': False}\n",
            "Accuracy after Random Search: 0.76\n"
          ]
        }
      ]
    },
    {
      "cell_type": "markdown",
      "source": [
        "## Optimasi Bayesian Optimization"
      ],
      "metadata": {
        "id": "FFzvWnPv9JuP"
      }
    },
    {
      "cell_type": "code",
      "source": [
        "from skopt import BayesSearchCV\n",
        "\n",
        "# Memperbaiki ruang pencarian untuk Bayesian Optimization\n",
        "param_space = {\n",
        "    'n_estimators': (100, 1000),\n",
        "    'max_depth': (10, 50),\n",
        "    'min_samples_split': (2, 10),\n",
        "    'min_samples_leaf': (1, 4),\n",
        "    'bootstrap': [True, False],\n",
        "    'criterion': ['gini', 'entropy']\n",
        "}\n",
        "\n",
        "# Inisialisasi BayesSearchCV dengan lebih banyak iterasi\n",
        "bayes_search = BayesSearchCV(\n",
        "    estimator=rf,\n",
        "    search_spaces=param_space,\n",
        "    n_iter=50,  # meningkatkan jumlah iterasi untuk pencarian lebih mendalam\n",
        "    cv=5,  # 5-fold cross-validation untuk evaluasi lebih stabil\n",
        "    n_jobs=-1,\n",
        "    verbose=2,\n",
        "    random_state=42\n",
        ")\n",
        "\n",
        "# Melakukan tuning dengan Bayesian Optimization\n",
        "bayes_search.fit(X_train, y_train)\n",
        "\n",
        "# Output hasil terbaik\n",
        "print(f\"Best parameters (Bayesian Optimization): {bayes_search.best_params_}\")\n",
        "best_rf_bayes = bayes_search.best_estimator_\n",
        "\n",
        "# Evaluasi performa model pada test set\n",
        "bayes_search_score = best_rf_bayes.score(X_test, y_test)\n",
        "print(f\"Accuracy after Bayesian Optimization: {bayes_search_score:.2f}\")"
      ],
      "metadata": {
        "colab": {
          "base_uri": "https://localhost:8080/"
        },
        "id": "BouGHgVY9JLj",
        "outputId": "f4152554-2ac5-4b36-bd45-bee879c3d180"
      },
      "execution_count": null,
      "outputs": [
        {
          "output_type": "stream",
          "name": "stdout",
          "text": [
            "Fitting 5 folds for each of 1 candidates, totalling 5 fits\n",
            "Fitting 5 folds for each of 1 candidates, totalling 5 fits\n",
            "Fitting 5 folds for each of 1 candidates, totalling 5 fits\n",
            "Fitting 5 folds for each of 1 candidates, totalling 5 fits\n",
            "Fitting 5 folds for each of 1 candidates, totalling 5 fits\n",
            "Fitting 5 folds for each of 1 candidates, totalling 5 fits\n",
            "Fitting 5 folds for each of 1 candidates, totalling 5 fits\n",
            "Fitting 5 folds for each of 1 candidates, totalling 5 fits\n",
            "Fitting 5 folds for each of 1 candidates, totalling 5 fits\n",
            "Fitting 5 folds for each of 1 candidates, totalling 5 fits\n",
            "Fitting 5 folds for each of 1 candidates, totalling 5 fits\n",
            "Fitting 5 folds for each of 1 candidates, totalling 5 fits\n",
            "Fitting 5 folds for each of 1 candidates, totalling 5 fits\n",
            "Fitting 5 folds for each of 1 candidates, totalling 5 fits\n",
            "Fitting 5 folds for each of 1 candidates, totalling 5 fits\n",
            "Fitting 5 folds for each of 1 candidates, totalling 5 fits\n",
            "Fitting 5 folds for each of 1 candidates, totalling 5 fits\n",
            "Fitting 5 folds for each of 1 candidates, totalling 5 fits\n",
            "Fitting 5 folds for each of 1 candidates, totalling 5 fits\n",
            "Fitting 5 folds for each of 1 candidates, totalling 5 fits\n",
            "Fitting 5 folds for each of 1 candidates, totalling 5 fits\n",
            "Fitting 5 folds for each of 1 candidates, totalling 5 fits\n",
            "Fitting 5 folds for each of 1 candidates, totalling 5 fits\n",
            "Fitting 5 folds for each of 1 candidates, totalling 5 fits\n",
            "Fitting 5 folds for each of 1 candidates, totalling 5 fits\n",
            "Fitting 5 folds for each of 1 candidates, totalling 5 fits\n",
            "Fitting 5 folds for each of 1 candidates, totalling 5 fits\n",
            "Fitting 5 folds for each of 1 candidates, totalling 5 fits\n",
            "Fitting 5 folds for each of 1 candidates, totalling 5 fits\n",
            "Fitting 5 folds for each of 1 candidates, totalling 5 fits\n",
            "Fitting 5 folds for each of 1 candidates, totalling 5 fits\n",
            "Fitting 5 folds for each of 1 candidates, totalling 5 fits\n",
            "Fitting 5 folds for each of 1 candidates, totalling 5 fits\n",
            "Fitting 5 folds for each of 1 candidates, totalling 5 fits\n",
            "Fitting 5 folds for each of 1 candidates, totalling 5 fits\n",
            "Fitting 5 folds for each of 1 candidates, totalling 5 fits\n",
            "Fitting 5 folds for each of 1 candidates, totalling 5 fits\n",
            "Fitting 5 folds for each of 1 candidates, totalling 5 fits\n",
            "Fitting 5 folds for each of 1 candidates, totalling 5 fits\n",
            "Fitting 5 folds for each of 1 candidates, totalling 5 fits\n",
            "Fitting 5 folds for each of 1 candidates, totalling 5 fits\n",
            "Fitting 5 folds for each of 1 candidates, totalling 5 fits\n",
            "Fitting 5 folds for each of 1 candidates, totalling 5 fits\n",
            "Fitting 5 folds for each of 1 candidates, totalling 5 fits\n",
            "Fitting 5 folds for each of 1 candidates, totalling 5 fits\n",
            "Fitting 5 folds for each of 1 candidates, totalling 5 fits\n",
            "Fitting 5 folds for each of 1 candidates, totalling 5 fits\n",
            "Fitting 5 folds for each of 1 candidates, totalling 5 fits\n",
            "Fitting 5 folds for each of 1 candidates, totalling 5 fits\n",
            "Fitting 5 folds for each of 1 candidates, totalling 5 fits\n",
            "Best parameters (Bayesian Optimization): OrderedDict([('bootstrap', False), ('criterion', 'gini'), ('max_depth', 34), ('min_samples_leaf', 3), ('min_samples_split', 6), ('n_estimators', 186)])\n",
            "Accuracy after Bayesian Optimization: 0.76\n"
          ]
        }
      ]
    },
    {
      "cell_type": "markdown",
      "source": [
        "# Klasifikasi Titanic"
      ],
      "metadata": {
        "id": "WKAxkR38B4rw"
      }
    },
    {
      "cell_type": "markdown",
      "source": [
        "## Load data dan pre-processing"
      ],
      "metadata": {
        "id": "V5fbTAI6EDaX"
      }
    },
    {
      "cell_type": "code",
      "source": [
        "import seaborn as sns\n",
        "import pandas as pd\n",
        "from sklearn.model_selection import train_test_split\n",
        "from sklearn.preprocessing import LabelEncoder\n",
        "\n",
        "# Mengunduh dataset Titanic dari Seaborn\n",
        "titanic = sns.load_dataset('titanic')\n",
        "\n",
        "# Menghilangkan baris dengan nilai yang hilang\n",
        "titanic.dropna(subset=['embarked', 'age', 'fare'], inplace=True)\n",
        "\n",
        "# Memilih fitur yang relevan\n",
        "X = titanic[['pclass', 'sex', 'age', 'sibsp', 'parch', 'fare', 'embarked']]\n",
        "y = titanic['survived']\n",
        "\n",
        "# Mengubah fitur kategorikal menjadi numerik menggunakan One-Hot Encoding\n",
        "X_encoded = pd.get_dummies(X, drop_first=True)\n",
        "\n",
        "# Membagi dataset menjadi training set dan testing set (70% training, 30% testing)\n",
        "X_train, X_test, y_train, y_test = train_test_split(X_encoded, y, test_size=0.3, random_state=42)\n",
        "\n",
        "print(\"Shape of training data:\", X_train.shape)\n",
        "print(\"Shape of testing data:\", X_test.shape)"
      ],
      "metadata": {
        "colab": {
          "base_uri": "https://localhost:8080/"
        },
        "id": "FB2t1EhKEGLx",
        "outputId": "73b21ed6-1470-4a67-aae0-7d64ac8bfd31"
      },
      "execution_count": null,
      "outputs": [
        {
          "output_type": "stream",
          "name": "stdout",
          "text": [
            "Shape of training data: (498, 8)\n",
            "Shape of testing data: (214, 8)\n"
          ]
        }
      ]
    },
    {
      "cell_type": "markdown",
      "source": [
        "## Foundation Model"
      ],
      "metadata": {
        "id": "sp0mqIMYEKJR"
      }
    },
    {
      "cell_type": "code",
      "source": [
        "from sklearn.ensemble import RandomForestClassifier\n",
        "\n",
        "# Inisialisasi model Random Forest\n",
        "rf = RandomForestClassifier(random_state=42)\n",
        "rf.fit(X_train, y_train)\n",
        "\n",
        "# Evaluasi awal model tanpa tuning\n",
        "initial_score = rf.score(X_test, y_test)\n",
        "print(f\"Initial accuracy on test set (without tuning): {initial_score:.2f}\")"
      ],
      "metadata": {
        "colab": {
          "base_uri": "https://localhost:8080/"
        },
        "id": "QlusKG2FELfb",
        "outputId": "98ad8e26-8830-4d92-d720-d070351863ca"
      },
      "execution_count": null,
      "outputs": [
        {
          "output_type": "stream",
          "name": "stdout",
          "text": [
            "Initial accuracy on test set (without tuning): 0.78\n"
          ]
        }
      ]
    },
    {
      "cell_type": "markdown",
      "source": [
        "## Grid Search"
      ],
      "metadata": {
        "id": "Hc-Ei9EPEP76"
      }
    },
    {
      "cell_type": "code",
      "source": [
        "from sklearn.model_selection import GridSearchCV\n",
        "\n",
        "# Definisikan parameter grid untuk Grid Search\n",
        "param_grid = {\n",
        "    'n_estimators': [100, 200, 300],\n",
        "    'max_depth': [10, 20, 30],\n",
        "    'min_samples_split': [2, 5, 10],\n",
        "    'criterion': ['gini', 'entropy']\n",
        "}\n",
        "\n",
        "# Inisialisasi GridSearchCV\n",
        "grid_search = GridSearchCV(estimator=rf, param_grid=param_grid, cv=3, n_jobs=-1, verbose=2)\n",
        "grid_search.fit(X_train, y_train)\n",
        "\n",
        "# Output hasil terbaik\n",
        "print(f\"Best parameters (Grid Search): {grid_search.best_params_}\")\n",
        "best_rf_grid = grid_search.best_estimator_\n",
        "\n",
        "# Evaluasi performa model pada test set\n",
        "grid_search_score = best_rf_grid.score(X_test, y_test)\n",
        "print(f\"Accuracy after Grid Search: {grid_search_score:.2f}\")"
      ],
      "metadata": {
        "colab": {
          "base_uri": "https://localhost:8080/"
        },
        "id": "A8SA0FFvERDQ",
        "outputId": "b2099fb7-cc4c-495c-965f-cdfb7ac27667"
      },
      "execution_count": null,
      "outputs": [
        {
          "output_type": "stream",
          "name": "stdout",
          "text": [
            "Fitting 3 folds for each of 54 candidates, totalling 162 fits\n",
            "Best parameters (Grid Search): {'criterion': 'entropy', 'max_depth': 20, 'min_samples_split': 10, 'n_estimators': 100}\n",
            "Accuracy after Grid Search: 0.79\n"
          ]
        }
      ]
    },
    {
      "cell_type": "markdown",
      "source": [
        "## Random Search"
      ],
      "metadata": {
        "id": "xBchpo4OEOCb"
      }
    },
    {
      "cell_type": "code",
      "source": [
        "from sklearn.model_selection import RandomizedSearchCV\n",
        "import numpy as np\n",
        "\n",
        "# Definisikan ruang pencarian untuk Random Search\n",
        "param_dist = {\n",
        "    'n_estimators': np.arange(100, 500, 100),\n",
        "    'max_depth': [None] + list(np.arange(10, 50, 10)),\n",
        "    'min_samples_split': np.arange(2, 11, 2),\n",
        "    'criterion': ['gini', 'entropy']\n",
        "}\n",
        "\n",
        "# Inisialisasi RandomizedSearchCV\n",
        "random_search = RandomizedSearchCV(estimator=rf, param_distributions=param_dist, n_iter=20, cv=3, n_jobs=-1, verbose=2, random_state=42)\n",
        "random_search.fit(X_train, y_train)\n",
        "\n",
        "# Output hasil terbaik\n",
        "print(f\"Best parameters (Random Search): {random_search.best_params_}\")\n",
        "best_rf_random = random_search.best_estimator_\n",
        "\n",
        "# Evaluasi performa model pada test set\n",
        "random_search_score = best_rf_random.score(X_test, y_test)\n",
        "print(f\"Accuracy after Random Search: {random_search_score:.2f}\")"
      ],
      "metadata": {
        "colab": {
          "base_uri": "https://localhost:8080/"
        },
        "id": "5XMcqyKaEV5M",
        "outputId": "c233d1a7-e8c9-4673-d882-5bed8f85ed5f"
      },
      "execution_count": null,
      "outputs": [
        {
          "output_type": "stream",
          "name": "stdout",
          "text": [
            "Fitting 3 folds for each of 20 candidates, totalling 60 fits\n",
            "Best parameters (Random Search): {'n_estimators': 100, 'min_samples_split': 8, 'max_depth': 20, 'criterion': 'entropy'}\n",
            "Accuracy after Random Search: 0.79\n"
          ]
        }
      ]
    },
    {
      "cell_type": "markdown",
      "source": [
        "## Bayesian Optimization"
      ],
      "metadata": {
        "id": "W4h8IaWgET34"
      }
    },
    {
      "cell_type": "code",
      "source": [
        "from skopt import BayesSearchCV\n",
        "\n",
        "# Definisikan ruang pencarian untuk Bayesian Optimization\n",
        "param_space = {\n",
        "    'n_estimators': (100, 500),\n",
        "    'max_depth': (10, 50),\n",
        "    'min_samples_split': (2, 10),\n",
        "    'min_samples_leaf': (1, 4),\n",
        "    'bootstrap': [True, False],\n",
        "    'criterion': ['gini', 'entropy']\n",
        "}\n",
        "\n",
        "# Inisialisasi BayesSearchCV\n",
        "bayes_search = BayesSearchCV(estimator=rf, search_spaces=param_space, n_iter=32, cv=3, n_jobs=-1, verbose=2, random_state=42)\n",
        "bayes_search.fit(X_train, y_train)\n",
        "\n",
        "# Output hasil terbaik\n",
        "print(f\"Best parameters (Bayesian Optimization): {bayes_search.best_params_}\")\n",
        "best_rf_bayes = bayes_search.best_estimator_\n",
        "\n",
        "# Evaluasi performa model pada test set\n",
        "bayes_search_score = best_rf_bayes.score(X_test, y_test)\n",
        "print(f\"Accuracy after Bayesian Optimization: {bayes_search_score:.2f}\")"
      ],
      "metadata": {
        "colab": {
          "base_uri": "https://localhost:8080/"
        },
        "id": "7O0jGPdXEX_i",
        "outputId": "9ba06698-7b39-4e35-b0fc-3dd9e86448c3"
      },
      "execution_count": null,
      "outputs": [
        {
          "output_type": "stream",
          "name": "stdout",
          "text": [
            "Fitting 3 folds for each of 1 candidates, totalling 3 fits\n",
            "Fitting 3 folds for each of 1 candidates, totalling 3 fits\n",
            "Fitting 3 folds for each of 1 candidates, totalling 3 fits\n",
            "Fitting 3 folds for each of 1 candidates, totalling 3 fits\n",
            "Fitting 3 folds for each of 1 candidates, totalling 3 fits\n",
            "Fitting 3 folds for each of 1 candidates, totalling 3 fits\n",
            "Fitting 3 folds for each of 1 candidates, totalling 3 fits\n",
            "Fitting 3 folds for each of 1 candidates, totalling 3 fits\n",
            "Fitting 3 folds for each of 1 candidates, totalling 3 fits\n",
            "Fitting 3 folds for each of 1 candidates, totalling 3 fits\n",
            "Fitting 3 folds for each of 1 candidates, totalling 3 fits\n",
            "Fitting 3 folds for each of 1 candidates, totalling 3 fits\n",
            "Fitting 3 folds for each of 1 candidates, totalling 3 fits\n",
            "Fitting 3 folds for each of 1 candidates, totalling 3 fits\n",
            "Fitting 3 folds for each of 1 candidates, totalling 3 fits\n",
            "Fitting 3 folds for each of 1 candidates, totalling 3 fits\n",
            "Fitting 3 folds for each of 1 candidates, totalling 3 fits\n",
            "Fitting 3 folds for each of 1 candidates, totalling 3 fits\n",
            "Fitting 3 folds for each of 1 candidates, totalling 3 fits\n",
            "Fitting 3 folds for each of 1 candidates, totalling 3 fits\n",
            "Fitting 3 folds for each of 1 candidates, totalling 3 fits\n",
            "Fitting 3 folds for each of 1 candidates, totalling 3 fits\n",
            "Fitting 3 folds for each of 1 candidates, totalling 3 fits\n",
            "Fitting 3 folds for each of 1 candidates, totalling 3 fits\n",
            "Fitting 3 folds for each of 1 candidates, totalling 3 fits\n",
            "Fitting 3 folds for each of 1 candidates, totalling 3 fits\n",
            "Fitting 3 folds for each of 1 candidates, totalling 3 fits\n",
            "Fitting 3 folds for each of 1 candidates, totalling 3 fits\n",
            "Fitting 3 folds for each of 1 candidates, totalling 3 fits\n",
            "Fitting 3 folds for each of 1 candidates, totalling 3 fits\n",
            "Fitting 3 folds for each of 1 candidates, totalling 3 fits\n",
            "Fitting 3 folds for each of 1 candidates, totalling 3 fits\n",
            "Best parameters (Bayesian Optimization): OrderedDict([('bootstrap', False), ('criterion', 'entropy'), ('max_depth', 10), ('min_samples_leaf', 3), ('min_samples_split', 3), ('n_estimators', 218)])\n",
            "Accuracy after Bayesian Optimization: 0.78\n"
          ]
        }
      ]
    },
    {
      "cell_type": "markdown",
      "source": [
        "# Regresi MOdel"
      ],
      "metadata": {
        "id": "FiaSeHyF_zQD"
      }
    },
    {
      "cell_type": "markdown",
      "source": [
        "## Load data dan pre-processing"
      ],
      "metadata": {
        "id": "R5Tp5EJ3A1ZS"
      }
    },
    {
      "cell_type": "code",
      "source": [
        "from sklearn.datasets import fetch_california_housing\n",
        "from sklearn.model_selection import train_test_split\n",
        "from sklearn.preprocessing import StandardScaler\n",
        "\n",
        "# Mengunduh dataset California Housing\n",
        "X, y = fetch_california_housing(return_X_y=True)\n",
        "\n",
        "# Membagi dataset menjadi training set dan testing set (70% training, 30% testing)\n",
        "X_train, X_test, y_train, y_test = train_test_split(X, y, test_size=0.3, random_state=42)\n",
        "\n",
        "# Melakukan scaling pada data (penting untuk regresi)\n",
        "scaler = StandardScaler()\n",
        "X_train = scaler.fit_transform(X_train)\n",
        "X_test = scaler.transform(X_test)\n",
        "\n",
        "print(\"Shape of training data:\", X_train.shape)\n",
        "print(\"Shape of testing data:\", X_test.shape)"
      ],
      "metadata": {
        "colab": {
          "base_uri": "https://localhost:8080/"
        },
        "id": "s50o4zcv9NMu",
        "outputId": "584e7c2b-8296-48d5-aea9-e52b03152470"
      },
      "execution_count": null,
      "outputs": [
        {
          "output_type": "stream",
          "name": "stdout",
          "text": [
            "Shape of training data: (14448, 8)\n",
            "Shape of testing data: (6192, 8)\n"
          ]
        }
      ]
    },
    {
      "cell_type": "markdown",
      "source": [
        "## Foundation Model"
      ],
      "metadata": {
        "id": "UmqJntWZA5Vy"
      }
    },
    {
      "cell_type": "code",
      "source": [
        "from sklearn.ensemble import RandomForestRegressor\n",
        "from sklearn.metrics import mean_squared_error\n",
        "import time\n",
        "# Mengukur waktu eksekusi fungsi\n",
        "start_time = time.time()  # Mencatat waktu mulai\n",
        "# Inisialisasi model Random Forest Regressor\n",
        "rf = RandomForestRegressor(random_state=42)\n",
        "rf.fit(X_train, y_train)\n",
        "\n",
        "# Evaluasi awal model tanpa tuning\n",
        "y_pred = rf.predict(X_test)\n",
        "initial_mse = mean_squared_error(y_test, y_pred)\n",
        "print(f\"Initial MSE on test set (without tuning): {initial_mse:.2f}\")\n",
        "\n",
        "end_time = time.time()  # Mencatat waktu selesai\n",
        "execution_time = end_time - start_time  # Menghitung selisih waktu\n",
        "print(f\"Waktu eksekusi: {execution_time:.4f} detik\")"
      ],
      "metadata": {
        "colab": {
          "base_uri": "https://localhost:8080/"
        },
        "id": "iOXJjNTKA3MR",
        "outputId": "56f4588e-2ffa-4d58-d206-db84a568989f"
      },
      "execution_count": null,
      "outputs": [
        {
          "output_type": "stream",
          "name": "stdout",
          "text": [
            "Initial MSE on test set (without tuning): 0.17\n",
            "Waktu eksekusi: 0.4089 detik\n"
          ]
        }
      ]
    },
    {
      "cell_type": "markdown",
      "source": [
        "## Grid Search"
      ],
      "metadata": {
        "id": "aq9FHR8kA86P"
      }
    },
    {
      "cell_type": "code",
      "source": [
        "from sklearn.model_selection import GridSearchCV\n",
        "\n",
        "start_time = time.time()  # Mencatat waktu mulai\n",
        "\n",
        "# Definisikan parameter grid untuk Grid Search\n",
        "param_grid = {\n",
        "    'n_estimators': [100, 200, 300, 400],\n",
        "    'max_depth': [10, 20, 30, 40],\n",
        "    'min_samples_split': [2, 5, 10, 15],\n",
        "    'min_samples_leaf': [1, 2, 4, 8],\n",
        "    'bootstrap': [True, False]\n",
        "}\n",
        "\n",
        "\n",
        "# Inisialisasi GridSearchCV\n",
        "grid_search = GridSearchCV(estimator=rf, param_grid=param_grid, cv=3, n_jobs=-1, verbose=2)\n",
        "grid_search.fit(X_train, y_train)\n",
        "\n",
        "# Output hasil terbaik\n",
        "print(f\"Best parameters (Grid Search): {grid_search.best_params_}\")\n",
        "best_rf_grid = grid_search.best_estimator_\n",
        "\n",
        "# Evaluasi performa model setelah Grid Search\n",
        "y_pred_grid = best_rf_grid.predict(X_test)\n",
        "grid_search_mse = mean_squared_error(y_test, y_pred_grid)\n",
        "print(f\"MSE after Grid Search: {grid_search_mse:.2f}\")\n",
        "end_time = time.time()  # Mencatat waktu selesai\n",
        "execution_time = end_time - start_time  # Menghitung selisih waktu\n",
        "print(f\"Waktu eksekusi: {execution_time:.4f} detik\")"
      ],
      "metadata": {
        "colab": {
          "base_uri": "https://localhost:8080/"
        },
        "id": "rnd2elVAA6tz",
        "outputId": "acfa0a64-4157-459f-f2e0-dd5ee7f25dfa"
      },
      "execution_count": null,
      "outputs": [
        {
          "output_type": "stream",
          "name": "stdout",
          "text": [
            "Fitting 3 folds for each of 512 candidates, totalling 1536 fits\n",
            "Best parameters (Grid Search): {'bootstrap': True, 'max_depth': 10, 'min_samples_leaf': 2, 'min_samples_split': 10, 'n_estimators': 100}\n",
            "MSE after Grid Search: 0.17\n",
            "Waktu eksekusi: 1063.3186 detik\n"
          ]
        }
      ]
    },
    {
      "cell_type": "markdown",
      "source": [
        "## Random Search"
      ],
      "metadata": {
        "id": "OkzPddP_A-hh"
      }
    },
    {
      "cell_type": "code",
      "source": [
        "from sklearn.model_selection import RandomizedSearchCV\n",
        "import numpy as np\n",
        "\n",
        "start_time = time.time()  # Mencatat waktu mulai\n",
        "# Definisikan ruang pencarian untuk Random Search\n",
        "param_dist = {\n",
        "    'n_estimators': np.arange(100, 500, 100),\n",
        "    'max_depth': [None] + list(np.arange(10, 50, 10)),\n",
        "    'min_samples_split': np.arange(2, 11, 2),\n",
        "    'min_samples_leaf': np.arange(1, 5),\n",
        "    'bootstrap': [True, False]\n",
        "}\n",
        "\n",
        "# Inisialisasi RandomizedSearchCV\n",
        "random_search = RandomizedSearchCV(estimator=rf, param_distributions=param_dist, n_iter=5, cv=3, n_jobs=-1, verbose=2, random_state=42)\n",
        "random_search.fit(X_train, y_train)\n",
        "\n",
        "# Output hasil terbaik\n",
        "print(f\"Best parameters (Random Search): {random_search.best_params_}\")\n",
        "best_rf_random = random_search.best_estimator_\n",
        "\n",
        "# Evaluasi performa model setelah Random Search\n",
        "y_pred_random = best_rf_random.predict(X_test)\n",
        "random_search_mse = mean_squared_error(y_test, y_pred_random)\n",
        "print(f\"MSE after Grid Search: {random_search_mse:.2f}\")\n",
        "end_time = time.time()  # Mencatat waktu selesai\n",
        "execution_time = end_time - start_time  # Menghitung selisih waktu\n",
        "print(f\"Waktu eksekusi: {execution_time:.4f} detik\")"
      ],
      "metadata": {
        "colab": {
          "base_uri": "https://localhost:8080/"
        },
        "id": "BoeWgCYfA-N7",
        "outputId": "e5df7e26-a2c3-4879-aad3-7b63a52c7df6"
      },
      "execution_count": null,
      "outputs": [
        {
          "output_type": "stream",
          "name": "stdout",
          "text": [
            "Fitting 3 folds for each of 5 candidates, totalling 15 fits\n",
            "Best parameters (Random Search): {'n_estimators': 300, 'min_samples_split': 6, 'min_samples_leaf': 2, 'max_depth': 30, 'bootstrap': True}\n",
            "MSE after Grid Search: 0.17\n",
            "Waktu eksekusi: 19.3417 detik\n"
          ]
        }
      ]
    },
    {
      "cell_type": "markdown",
      "source": [
        "## Bayesian Optimization"
      ],
      "metadata": {
        "id": "FAoxOrIVD29b"
      }
    },
    {
      "cell_type": "code",
      "source": [
        "from skopt import BayesSearchCV\n",
        "\n",
        "start_time = time.time()  # Mencatat waktu mulai\n",
        "\n",
        "# Definisikan ruang pencarian untuk Bayesian Optimization\n",
        "param_space = {\n",
        "    'n_estimators': (100, 500),\n",
        "    'max_depth': (10, 50),\n",
        "    'min_samples_split': (2, 10),\n",
        "    'min_samples_leaf': (1, 4),\n",
        "    'bootstrap': [True, False]\n",
        "}\n",
        "\n",
        "# Inisialisasi BayesSearchCV\n",
        "bayes_search = BayesSearchCV(estimator=rf, search_spaces=param_space, n_iter=32, cv=3, n_jobs=-1, verbose=2, random_state=42)\n",
        "bayes_search.fit(X_train, y_train)\n",
        "\n",
        "# Output hasil terbaik\n",
        "print(f\"Best parameters (Bayesian Optimization): {bayes_search.best_params_}\")\n",
        "best_rf_bayes = bayes_search.best_estimator_\n",
        "\n",
        "# Evaluasi performa model setelah Random Search\n",
        "y_pred_bayes = best_rf_bayes.predict(X_test)\n",
        "bayes_mse = mean_squared_error(y_test, y_pred_bayes)\n",
        "print(f\"MSE after Grid Search: {bayes_mse:.2f}\")\n",
        "end_time = time.time()  # Mencatat waktu selesai\n",
        "execution_time = end_time - start_time  # Menghitung selisih waktu\n",
        "print(f\"Waktu eksekusi: {execution_time:.4f} detik\")"
      ],
      "metadata": {
        "colab": {
          "base_uri": "https://localhost:8080/"
        },
        "id": "Tj6L9Q5BChPS",
        "outputId": "3951931f-eddd-44c6-96e1-ede3477fa907"
      },
      "execution_count": null,
      "outputs": [
        {
          "output_type": "stream",
          "name": "stdout",
          "text": [
            "Fitting 3 folds for each of 1 candidates, totalling 3 fits\n",
            "Fitting 3 folds for each of 1 candidates, totalling 3 fits\n",
            "Fitting 3 folds for each of 1 candidates, totalling 3 fits\n",
            "Fitting 3 folds for each of 1 candidates, totalling 3 fits\n",
            "Fitting 3 folds for each of 1 candidates, totalling 3 fits\n",
            "Fitting 3 folds for each of 1 candidates, totalling 3 fits\n",
            "Fitting 3 folds for each of 1 candidates, totalling 3 fits\n",
            "Fitting 3 folds for each of 1 candidates, totalling 3 fits\n",
            "Fitting 3 folds for each of 1 candidates, totalling 3 fits\n",
            "Fitting 3 folds for each of 1 candidates, totalling 3 fits\n",
            "Fitting 3 folds for each of 1 candidates, totalling 3 fits\n",
            "Fitting 3 folds for each of 1 candidates, totalling 3 fits\n",
            "Fitting 3 folds for each of 1 candidates, totalling 3 fits\n",
            "Fitting 3 folds for each of 1 candidates, totalling 3 fits\n",
            "Fitting 3 folds for each of 1 candidates, totalling 3 fits\n",
            "Fitting 3 folds for each of 1 candidates, totalling 3 fits\n",
            "Fitting 3 folds for each of 1 candidates, totalling 3 fits\n",
            "Fitting 3 folds for each of 1 candidates, totalling 3 fits\n",
            "Fitting 3 folds for each of 1 candidates, totalling 3 fits\n",
            "Fitting 3 folds for each of 1 candidates, totalling 3 fits\n",
            "Fitting 3 folds for each of 1 candidates, totalling 3 fits\n",
            "Fitting 3 folds for each of 1 candidates, totalling 3 fits\n",
            "Fitting 3 folds for each of 1 candidates, totalling 3 fits\n",
            "Fitting 3 folds for each of 1 candidates, totalling 3 fits\n",
            "Fitting 3 folds for each of 1 candidates, totalling 3 fits\n",
            "Fitting 3 folds for each of 1 candidates, totalling 3 fits\n",
            "Fitting 3 folds for each of 1 candidates, totalling 3 fits\n",
            "Fitting 3 folds for each of 1 candidates, totalling 3 fits\n",
            "Fitting 3 folds for each of 1 candidates, totalling 3 fits\n",
            "Fitting 3 folds for each of 1 candidates, totalling 3 fits\n",
            "Fitting 3 folds for each of 1 candidates, totalling 3 fits\n",
            "Fitting 3 folds for each of 1 candidates, totalling 3 fits\n",
            "Best parameters (Bayesian Optimization): OrderedDict([('bootstrap', True), ('max_depth', 10), ('min_samples_leaf', 2), ('min_samples_split', 10), ('n_estimators', 500)])\n",
            "MSE after Grid Search: 0.17\n",
            "Waktu eksekusi: 157.9395 detik\n"
          ]
        }
      ]
    },
    {
      "cell_type": "code",
      "source": [],
      "metadata": {
        "id": "nlV5rVukGjPx"
      },
      "execution_count": null,
      "outputs": []
    }
  ]
}